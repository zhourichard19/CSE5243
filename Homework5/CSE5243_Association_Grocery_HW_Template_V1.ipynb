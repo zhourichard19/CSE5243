{
 "cells": [
  {
   "cell_type": "markdown",
   "metadata": {
    "tags": []
   },
   "source": [
    "# CSE 5243 - Introduction to Data Mining\n",
    "## Homework 5: Association Analysis\n",
    "- Semester: Fill in\n",
    "- Instructor: Fill in\n",
    "- Section: Fill in days, start time \n",
    "- Student Name: John Smith\n",
    "- Student Email: smith.12345@osu.edu\n",
    "- Student ID: 123456789\n",
    "\n",
    "Template Version V1.\n",
    "***"
   ]
  },
  {
   "cell_type": "markdown",
   "metadata": {},
   "source": [
    "# Introduction\n",
    "\n",
    "### Objectives\n",
    "\n",
    "In this lab, you will use the \"AssociationsGroceriesDataV1.xlsx\" dataset provided on Carmen to find potential association rules.\n",
    "\n",
    "The objectives of this assignment are:\n",
    "- Practice the Association Analysis content we covered this semester.\n",
    "- Understand “why” the particular topics, techniques, etc., are important from a practical perspective.\n",
    "- Understand how to choose and use appropriate tools to solve the provided problems.\n",
    "\n",
    "### The Dataset\n",
    "- This workbook contains is a market basket dataset containing transactions.\n",
    "- The data file captures the data in \"long format\". Specifically, every row corresponds to the transaction id and the item. If the specific transaction id has multiple items, there will be multiple rows in the data.\n",
    "- You can process the data however you like, but it is recommended you convert into a one-hot-encoded data structure. This will allow you to easily use the mlxtend package.\n",
    "\n",
    "## The Business Problem\n",
    "- Assume this dataset contains all of the transactions for one month for our store.  We wish to find association rules that would improve our revenue as follows:\n",
    "  - We would discount one of our products by 10% each month, with the hope that this would encourage customers to visit our store to purchse that product 5% more frequently, and also purchase  other products (that are not discounted) more frequently.\n",
    "- Practically speaking, we would like to come up with **two-item** rules (one antecedent and one consequent: (A -> B)) and choose the one that best adds to our revenues  (based on the rule support, confidence, etc.).\n",
    "\n",
    "### Proper Answers\n",
    "- To make everyone's lives a little easier, when writing Itemsets and Rules, please list the items in **lexagraphical order**: {A}, {B}, {A,B}, {A,C}, {A,B,C},…, {A,B,C}->{D}, {A,B}->{C,D}\n",
    "    - If you have trouble doing so, please post to Teams and we will offer suggestions.\n",
    "- **IMPORTANT:** When answering the numbered questions below, make sure to **label your answer with the question number**.  This will help us give appropriate grades.\n",
    "  - EXAMPLE: \"**Question 2A:** The Total Number of Itemsets is 19\"\n",
    "- **IMPORTANT:** **Show your work** and **explain it**.  This will help us give partial credit in some cases.\n",
    "\n",
    "### Collaboration\n",
    "For this assignment, you should work as an individual. You may informally discuss ideas with classmates, but your work should be your own.\n",
    "\n",
    "### What You Need to Turn In\n",
    "- Submit this Jupyter Notebook in .IPYNB format.  Do not \"zip\" the file.\n",
    "\n",
    "### Notes\n",
    "- Feel free to use the **mlxtend** package throughout this assignment.\n",
    "- If a question asks you to \"calculate\" the number of \"all possible rules\", etc., explain the calculation by showing the \"formula\" you used. This will act as \"showing your work\".\n",
    "***"
   ]
  },
  {
   "cell_type": "markdown",
   "metadata": {
    "tags": []
   },
   "source": [
    "***\n",
    "# Section: 1 - Get Ready\n",
    "1A) Load the data, and get it ready for association analysis. Do this with convenient python helper methods as appropriate. Feel free to use the tools given in the example we covered. \n",
    "- Suggest: Make the data one-hot encoded.\n",
    "***"
   ]
  },
  {
   "cell_type": "code",
   "execution_count": null,
   "metadata": {},
   "outputs": [],
   "source": [
    "#Note: If the mlxtend library is not installed, uncomment the following line (once) and run it.\n",
    "#!pip install mlxtend\n",
    "import numpy as np\n",
    "import pandas as pd\n",
    "import mlxtend as mlx\n",
    "import seaborn as sns\n",
    "import matplotlib.pyplot as plt\n",
    "%matplotlib inline\n",
    "from mlxtend.frequent_patterns import association_rules\n",
    "from mlxtend.frequent_patterns import apriori\n",
    "from mlxtend.frequent_patterns import fpgrowth"
   ]
  },
  {
   "cell_type": "code",
   "execution_count": null,
   "metadata": {},
   "outputs": [],
   "source": [
    "#load the dataset\n",
    "transaction_df = pd.read_excel('AssociationsGroceriesDataV1.xlsx',sheet_name = 'Transactions')\n",
    "transaction_df"
   ]
  },
  {
   "cell_type": "code",
   "execution_count": null,
   "metadata": {},
   "outputs": [],
   "source": [
    "# Suggest one-hot encoding of the data..."
   ]
  },
  {
   "cell_type": "code",
   "execution_count": null,
   "metadata": {},
   "outputs": [],
   "source": [
    "item_df = pd.read_excel('AssociationsGroceriesDataV1.xlsx',sheet_name = 'Items')\n",
    "item_df"
   ]
  },
  {
   "cell_type": "markdown",
   "metadata": {},
   "source": [
    "***\n",
    "# Section: 2 - Explore the Data\n",
    "***"
   ]
  },
  {
   "cell_type": "markdown",
   "metadata": {},
   "source": [
    "***\n",
    "## Section: 2.1 - Get the Transaction and Item Sizes\n",
    "- Calculate the **number_of_transactions** and **number_of_items**.\n",
    "***"
   ]
  },
  {
   "cell_type": "code",
   "execution_count": null,
   "metadata": {
    "tags": []
   },
   "outputs": [],
   "source": []
  },
  {
   "cell_type": "markdown",
   "metadata": {},
   "source": [
    "***\n",
    "## Section: 2.2 - Evaluate the Itemset and Rule Size & Complexity\n",
    "- Calculate the **maximum number of Itemsets** that could be created from the items (without considering the actual transaction data). Show your work.\n",
    "- Calculate the **maximum number of Rules** that can be created from the items (without considering the actual transaction data). Show your work.\n",
    "- What do the calculations suggest as a **potential cause of concern**? Hint: Complexity.\n",
    "- What might you do to manage these concerns?\n",
    "***"
   ]
  },
  {
   "cell_type": "code",
   "execution_count": null,
   "metadata": {},
   "outputs": [],
   "source": []
  },
  {
   "cell_type": "markdown",
   "metadata": {
    "tags": []
   },
   "source": [
    "***\n",
    "# Section: 3 - Itemset Generation\n",
    "***"
   ]
  },
  {
   "cell_type": "markdown",
   "metadata": {},
   "source": [
    "***\n",
    "## Section: 3.1 - Revise the Dataset\n",
    "- If/as appropriate, trim or revise the dataset to make the runtime reasonable.\n",
    "- Show the results, briefly.\n",
    "- Explain what you did and why you did it.\n",
    "***"
   ]
  },
  {
   "cell_type": "code",
   "execution_count": null,
   "metadata": {
    "tags": []
   },
   "outputs": [],
   "source": []
  },
  {
   "cell_type": "markdown",
   "metadata": {},
   "source": [
    "***\n",
    "## Section: 3.2 - Create Two-Itemsets\n",
    "- Create a set of 20 two-item sets with highest support. Sort them in decreasing order of support.\n",
    "- Show the results, briefly.\n",
    "- Explain what you did and why you did it.\n",
    "***"
   ]
  },
  {
   "cell_type": "code",
   "execution_count": null,
   "metadata": {},
   "outputs": [],
   "source": []
  },
  {
   "cell_type": "markdown",
   "metadata": {},
   "source": [
    "***\n",
    "# Section: 4 - Generate Rules\n",
    "- For the two-itemsets created above, create the related rules.\n",
    "***"
   ]
  },
  {
   "cell_type": "code",
   "execution_count": null,
   "metadata": {
    "tags": []
   },
   "outputs": [],
   "source": []
  },
  {
   "cell_type": "markdown",
   "metadata": {},
   "source": [
    "***\n",
    "# Section: 5 - Rule Evaluation\n",
    "- For the rules created above, find the single Item (that would be given the discount) that would cause the greatest increase in monthly store revenue.\n",
    "  - This is based on the Business Problem stated at the top of this notebook.\n",
    "  - Consider:\n",
    "    - How much will the store's monthly revenue decrease (or increase) due to the change in price for the chosen Item (and its increased sales)?\n",
    "    - How much will the store's monthly revenue increase (or decrease) due to the increased sales of the associated Items?\n",
    "***"
   ]
  },
  {
   "cell_type": "code",
   "execution_count": null,
   "metadata": {},
   "outputs": [],
   "source": []
  },
  {
   "cell_type": "markdown",
   "metadata": {},
   "source": [
    "***\n",
    "# Section: 6 - Conclusions\n",
    "- Write a paragraph on what you discovered or learned from this homework.\n",
    "***"
   ]
  },
  {
   "cell_type": "code",
   "execution_count": null,
   "metadata": {},
   "outputs": [],
   "source": []
  },
  {
   "cell_type": "markdown",
   "metadata": {},
   "source": [
    "***\n",
    "### END-OF-SUBMISSION\n",
    "***"
   ]
  }
 ],
 "metadata": {
  "kernelspec": {
   "display_name": "Python 3 (ipykernel)",
   "language": "python",
   "name": "python3"
  },
  "language_info": {
   "codemirror_mode": {
    "name": "ipython",
    "version": 3
   },
   "file_extension": ".py",
   "mimetype": "text/x-python",
   "name": "python",
   "nbconvert_exporter": "python",
   "pygments_lexer": "ipython3",
   "version": "3.7.10"
  }
 },
 "nbformat": 4,
 "nbformat_minor": 4
}
