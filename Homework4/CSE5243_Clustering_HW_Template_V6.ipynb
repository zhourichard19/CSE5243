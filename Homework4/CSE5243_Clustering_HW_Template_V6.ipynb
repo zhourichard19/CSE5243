{
 "cells": [
  {
   "cell_type": "markdown",
   "metadata": {
    "tags": []
   },
   "source": [
    "# CSE 5243 - Introduction to Data Mining\n",
    "## Homework 4: Clustering\n",
    "- Semester: Spring 2023\n",
    "- Instructor: Tom Bihari\n",
    "- Section: Wednesday/Friday 9:35AM or 12:45PM  (CHOOSE)\n",
    "- Student Name: John Smith\n",
    "- Student Email: smith.12345@osu.edu\n",
    "- Student ID: 123456789\n",
    "\n",
    "Template Version V6.\n",
    "***"
   ]
  },
  {
   "cell_type": "markdown",
   "metadata": {
    "tags": []
   },
   "source": [
    "***\n",
    "# Section: Overview\n",
    "\n",
    "### Objectives:\n",
    "\n",
    "In this lab, you will perform clustering on three datasets.  Your will choose suitable clustering algorithms, evaluate them on the datasets, and compare their performance.\n",
    "\n",
    "The objectives of this assignment are:\n",
    "1.\tUnderstand how to select and evaluate suitable off-the-shelf clustering algorithms based on the characteristics of a dataset and the outcomes you need.\n",
    "2.\tUnderstand how to tune and evaluate a clustering algorithm to achieve good performance.\n",
    "\n",
    "### Datasets:\n",
    "\n",
    "- The file **small_Xydf.csv** is a two-dimensional dataset with 200 records.  It contains columns X0, X1, and y.  The y column is the actual cluster number that was produced by the dataset generation algorithm.  Do not use it for the clustering algorithm.  It will be used to evaluate your clustering algorithm below.\n",
    "\n",
    "- The file **large1_Xydf.csv** is a two-dimensional dataset with 3000 records.  It contains columns X0, X1, and y.  The y column is the actual cluster number that was produced by the dataset generation algorithm.  Do not use it for the clustering algorithm.  It will be used to evaluate your clustering algorithm below.\n",
    "\n",
    "- The file **large2_Xydf.csv** is a two-dimensional dataset with 3000 records.  It contains columns X0, X1, and y.  The y column is the actual cluster number that was produced by the dataset generation algorithm.  Do not use it for the clustering algorithm.  It will be used to evaluate your clustering algorithm below.\n",
    "\n",
    "### Approach:\n",
    "\n",
    "This homework makes use of the Clustering Algorithms offered by the SciKitLearn Library.  Study the information at https://scikit-learn.org/stable/modules/clustering.html.  Follow the guidance in the individual sections below.\n",
    "\n",
    "### Collaboration:\n",
    "\n",
    "For this assignment, you should work as an individual. You may informally discuss ideas with classmates, to get advice on general Python usage, etc., but your work should be your own.  Please make use of Microsoft Teams!\n",
    "\n",
    "### What You Need to Turn In:\n",
    "\n",
    "1.\tCode\n",
    "-\tFor this homework, the code is the Jupyter Notebook.  Use the provided Jupyter Notebook template, and fill in the appropriate information.\n",
    "-\tThis homework requires you to use clustering algorithms in the SciKitLearn library.  You also may use common Python libraries for I/O, data manipulation, data visualization, etc. (e.g., NumPy, Pandas, MatPlotLib,…).  You may not use library operations that perform, in effect, the entire “core” computations for this homework. (e.g., If you happen to find a single function on the web that does essentially *all* of a major portion of the homework, you may not use it.)  When in doubt, ask the grader or instructor.\n",
    "-\tThe code must be written by you, and any significant code snips you found on the Internet and used to understand how to do your coding for the core functionality must be attributed.  (You do not need to attribute basic functionality – matrix operations, IO, etc.)\n",
    "-\tThe code must be commented sufficiently to allow a reader to understand the algorithm without reading the actual Python, step by step.\n",
    "-\tWhen in doubt, ask the grader or instructor.\n",
    "\n",
    "2.\tWritten Report\n",
    "-\tFor this homework, the report is the Jupyter Notebook.  The report should be well-written.  Please proof-read and remove spelling and grammar errors and typos.\n",
    "-\tThe report should discuss your analysis and observations. Key points and findings must be written in a style suitable for consumption by non-experts.  Present charts and graphs to support your observations. If you performed any data processing, cleaning, etc., please discuss it within the report.\n",
    "\n",
    "### How to Turn In Your Work on Carmen:\n",
    "\n",
    "**Please follow these instructions exactly** - it helps the grading process.  If you have questions, please ask.  Submit your Jupyter Noebook to Carmen - do not ZIP or PDF it. You do not need to include the input data.\n",
    "\n",
    "### Grading:\n",
    "\n",
    "0.\tOverall readability and organization of your report (10%) - Is it well organized and does the presentation flow in a logical manner; are there many grammar and spelling mistakes; do the charts/graphs relate to the text, etc.\n",
    "1.\tEvaluation of the KNN Clustering Algorithm on the Small Dataset (15%) – Is your configuration sound?  Have you made an effort to tune the algorithm for good performance?  Are your analyses and evaluations sound, and supported by suitable statistics and/or visualizations?\n",
    "2.\tEvaluation of the KNN Clustering Algorithm on the Large1 Dataset (15%) – Is your configuration sound?  Have you made an effort to tune the algorithm for good performance?  Are your analyses and evaluations sound, and supported by suitable statistics and/or visualizations?\n",
    "3.\tEvaluation of the KNN Clustering Algorithm on the Large2 Dataset (15%) – Is your configuration sound?  Have you made an effort to tune the algorithm for good performance?  Are your analyses and evaluations sound, and supported by suitable statistics and/or visualizations?\n",
    "4.\tEvaluation of the Second Clustering Algorithm on the Large2 Dataset (15%) – Is your choice of algorithm and your configuration sound?  Have you made an effort to tune the algorithm for good performance?  Are your analyses and evaluations sound, and supported by suitable statistics and/or visualizations?\n",
    "5.\tEvaluation of the Third Clustering Algorithm on the Large2 Dataset (15%) – Is your choice of algorithm and your configuration sound?  Have you made an effort to tune the algorithm for good performance?  Are your analyses and evaluations sound, and supported by suitable statistics and/or visualizations?\n",
    "6.\tComparison of the Three Clustering Algorithms (10%) - Is the comparison sound?  Did you choose a specific clustering algorithm as best and explain why?\n",
    "7.\tConclusions (5%) – Did you document your overall insights? \n",
    "\n",
    "### Instructions and Helpful Hints:\n",
    "- Consider putting all of your \"discussion\" text in markdown cells, not inline with code. That gives you more control over formatting. Markdown cheat sheet: https://www.markdownguide.org/cheat-sheet\n",
    "- Consider creating re-usable functions for some common operations - you will be doing the same sorts of things multiple times below.\n",
    "- Explain what you are doing, and why.  Explain what you found out or learned.\n",
    "- *Make sure you run your entire workbook before handing it in, so the output cells are populated.*\n",
    "- Follow the Section structure as much as possible - put your content where it is requested, so we can find your answers.\n",
    "- If you have questions on expectations or need clarification or guidance, please ask.  Post to Teams if it is a general question, so everyone benefits.\n",
    "\n",
    "### References and Acknowledgements:\n",
    "\n",
    "1.\thttps://scikit-learn.org/stable/modules/classes.html#module-sklearn.cluster\n",
    "2.\thttps://scikit-learn.org/stable/modules/clustering.html\n",
    "3.\thttps://docs.python.org/3/library/time.html\n",
    "4.\thttps://docs.scipy.org/doc/scipy/reference/generated/scipy.optimize.linear_sum_assignment.html\n",
    "5.\thttps://gist.github.com/siolag161/dc6e42b64e1bde1f263b (using Hungarian Algorithm to match cluster labels - this is just an example)\n",
    "6.\thttps://scikit-learn.org/stable/modules/generated/sklearn.metrics.mean_squared_error.html (note that this is **mean** squared error)\n",
    "***"
   ]
  },
  {
   "cell_type": "markdown",
   "metadata": {},
   "source": [
    "***\n",
    "# Section: Setup\n",
    "- Add any needed imports, helper functions, etc., here.\n",
    "***"
   ]
  },
  {
   "cell_type": "code",
   "execution_count": 8,
   "metadata": {},
   "outputs": [],
   "source": [
    "# Import libraries\n",
    "import pandas as pd\n",
    "import numpy as np\n",
    "from scipy.spatial import distance\n",
    "from scipy.spatial.distance import cdist\n",
    "from sklearn import cluster\n",
    "from sklearn.cluster import KMeans\n",
    "import matplotlib.pyplot as plt\n",
    "import seaborn as sns\n",
    "import time\n",
    "from sklearn.metrics import confusion_matrix\n",
    "from sklearn.metrics import classification_report\n",
    "from sklearn.metrics import accuracy_score\n",
    "import warnings\n",
    "\n",
    "warnings.filterwarnings('ignore')\n",
    "\n",
    "#np.set_printoptions(threshold=np.inf)\n",
    "np.set_printoptions(linewidth=120)"
   ]
  },
  {
   "cell_type": "code",
   "execution_count": 9,
   "metadata": {
    "tags": []
   },
   "outputs": [],
   "source": [
    "# HELPER FUNCTION - provided to you.  You may use this function or create your own visualizations.\n",
    "def plot_clusters(title, X, y, size):\n",
    "    import matplotlib.pyplot as plt\n",
    "    plt.figure(figsize=(size,size))\n",
    "    plt.title(title)\n",
    "    plt.xlabel(\"X0\") \n",
    "    plt.ylabel(\"X1\")\n",
    "    plt.scatter(X[:, 0], X[:, 1], s = 40, c = y[:]) \n",
    "    plt.show()\n",
    "    plt.clf()"
   ]
  },
  {
   "cell_type": "code",
   "execution_count": 10,
   "metadata": {},
   "outputs": [],
   "source": [
    "# HELPER FUNCTION - provided to you.  You may use this function or create your own.\n",
    "def remap_cluster_labels(true_y, pred_y):\n",
    "    # Rearrange the predicted cluster labels so they best match the true ones.\n",
    "    # This function takes the true and predicted labels and returns the remapped predicted labels.\n",
    "    # Situation: A clustering algorithm returns a set of cluster labels.  These labels typically will not be the same as the\n",
    "    # true cluster labels (because the algorithm does not know anything about the true labels).  For example, the algorithm\n",
    "    # may return (2,1,2,0,1,0,...) while the true labels are (0,2,0,1,2,1,...). Therefore it is necessary remap 2->0, 1->2,\n",
    "    # and 0->1 when evaluating the quality of the algorithm.\n",
    "    # Note: This code has not been tested for cases where there are negative cluster numbers (e.g., -1 for DbScan)\n",
    "    #       or for cases where the true_y and pred_y matrices are of different lengths.\n",
    "    # https://docs.scipy.org/doc/scipy/reference/generated/scipy.optimize.linear_sum_assignment.html\n",
    "    from scipy.optimize import linear_sum_assignment\n",
    "\n",
    "    conf_mat = confusion_matrix(true_y, pred_y)  #SciKitLearn convention is rows are true labels, cols are predicted labels\n",
    "    \n",
    "    # Find the optimal remapping of labels, so the predicted labels best match the true labels.\n",
    "    # col_index is the predicted label; row_index is the true label to change it to.\n",
    "    \n",
    "    # Negate the costs so maximizing the assignment minimizes the mismatches\n",
    "    row_index, col_index = linear_sum_assignment(conf_mat.max()-conf_mat)\n",
    "\n",
    "    # Remap the predicted labels.\n",
    "    new_pred_y = np.zeros(len(pred_y))\n",
    "    for r in range(0,len(row_index)):\n",
    "        old = col_index[r]  # the predicted y's\n",
    "        new = row_index[r]  # remap to the corresponding true y's\n",
    "        new_pred_y[pred_y == old] = new\n",
    "\n",
    "    return new_pred_y  # return the remapped labels"
   ]
  },
  {
   "cell_type": "code",
   "execution_count": 11,
   "metadata": {
    "tags": []
   },
   "outputs": [],
   "source": [
    "# # SUGGESTION - consider creating functions like these, if you choose.\n",
    "# def compute_single_sse(my_df):  # For a Pandas DataFrame - Columns are X0, X1\n",
    "#     ...\n",
    "#     return my_SSE\n",
    "\n",
    "# def compute_all_sse(my_df):  # For a Pandas DataFrame - Columns are X0, X1, y\n",
    "#     ...\n",
    "#     return sum_WSS, overall_SSE-sum_WSS, overall_SSE    #Total (overall) SSE is the sum of BSS and WSS\n",
    "\n",
    "# def compute_all_sse_from_Xy(X, y):  # For NumPy arrays\n",
    "#     ...\n",
    "#     return compute_all_sse(my_df)"
   ]
  },
  {
   "cell_type": "code",
   "execution_count": 12,
   "metadata": {},
   "outputs": [],
   "source": [
    "# SUGGESTION - consider creating a function to print the evaluation results of the clustering, if you choose.\n",
    "def print_evaluation_results(title_string, show_true, show_pred, X, true_y, pred_y, running_time):\n",
    "    # Print plots, WSS, BSS, total SSE, accuracy, confusion matrix, classification report, accuracy, running time, etc.\n",
    "    # ...\n",
    "    print(title_string)"
   ]
  },
  {
   "cell_type": "markdown",
   "metadata": {
    "tags": []
   },
   "source": [
    "***\n",
    "# Section: 1 - Evaluate the **K-Means** Algorithm on the **Small** Dataset\n",
    "***"
   ]
  },
  {
   "cell_type": "markdown",
   "metadata": {},
   "source": [
    "***\n",
    "## Section: 1.1 - Calculate True Cluster Measures\n",
    "- Given that you know the true clusters (from column y in the original data), compute the true within-cluster WSS (also called “SSE” in the slides), the between-cluster BSS, and the Total SSE (WSS+BSS).\n",
    "- Print all of the evaluation results.\n",
    "***"
   ]
  },
  {
   "cell_type": "code",
   "execution_count": 13,
   "metadata": {
    "tags": []
   },
   "outputs": [],
   "source": [
    "small_data = pd.read_csv('../data/small_Xydf.csv')\n",
    "# X = small_data[['X0','X1']].to_numpy()\n",
    "# true_y = small_data['y'].to_numpy()"
   ]
  },
  {
   "cell_type": "code",
   "execution_count": 14,
   "metadata": {
    "tags": []
   },
   "outputs": [],
   "source": [
    "# print_evaluation_results(\"SMALL DATASET TRUE CLUSTER MEASURES:\", True, False, X, true_y, None, 0.0)"
   ]
  },
  {
   "cell_type": "markdown",
   "metadata": {
    "tags": []
   },
   "source": [
    "***\n",
    "## Section: 1.2 - Configure and Run the SciKitLearn K-Means Algorithm\n",
    "- Explain all configuration parameter values you chose, and why you chose them.\n",
    "- Run your algorithm for K=2, 3, 4.\n",
    "- For each run:\n",
    "  - Compute the WSS, BSS, and Total SSE (WSS+BSS), and compute the running time (see Python Time reference – see %%time, time.process_time(), etc.).\n",
    "    Create a scatterplot, overlaying the true cluster with the cluster produced by your algorithm, or alternatively, create two separate scatterplots.\n",
    "  - Create a cross tabulation matrix (i.e., confusion matrix) comparing the true and assigned clusters, and the basic measures (precision, recall, F1, accuracy, etc. - see classification_report). - Explain all configuration parameter values you chose, and why you chose them.\n",
    "Note that you may need to \"match up\" the true and assigned cluster labels.  See the linear-sum-assignment and Hungarian algorithm references, for example.\n",
    "***"
   ]
  },
  {
   "cell_type": "code",
   "execution_count": null,
   "metadata": {
    "tags": []
   },
   "outputs": [],
   "source": []
  },
  {
   "cell_type": "markdown",
   "metadata": {},
   "source": [
    "***\n",
    "## Section: 1.3 - Record Your Observations\n",
    "- What do you observe or conclude from these experiments?\n",
    "- Which is your “preferred” clustering (K value in particular), and why?\n",
    "- Support this with statistics and/or graphs.\n",
    "***"
   ]
  },
  {
   "cell_type": "code",
   "execution_count": null,
   "metadata": {
    "tags": []
   },
   "outputs": [],
   "source": []
  },
  {
   "cell_type": "markdown",
   "metadata": {
    "tags": []
   },
   "source": [
    "***\n",
    "# Section: 2 - Evaluate the **K-Means** Algorithm on the **Large1** Dataset\n",
    "***"
   ]
  },
  {
   "cell_type": "markdown",
   "metadata": {},
   "source": [
    "***\n",
    "## Section: 2.1 - Calculate True Cluster Measures\n",
    "- Given that you know the true clusters (from column y in the original data), compute the true within-cluster WSS (also called “SSE” in the slides), the between-cluster BSS, and the Total SSE (WSS+BSS).\n",
    "***"
   ]
  },
  {
   "cell_type": "code",
   "execution_count": null,
   "metadata": {
    "tags": []
   },
   "outputs": [],
   "source": []
  },
  {
   "cell_type": "markdown",
   "metadata": {},
   "source": [
    "***\n",
    "## Section: 2.2 - Configure and Run the SciKitLearn K-Means Algorithm\n",
    "- Explain all configuration parameter values you chose, and why you chose them.\n",
    "- Run your algorithm for K=6, 8, 10.\n",
    "- For each run:\n",
    "  - Compute the WSS, BSS, and Total SSE (WSS+BSS), and compute the running time (see Python Time reference – see %%time, time.process_time(), etc.).\n",
    "    Create a scatterplot, overlaying the true cluster with the cluster produced by your algorithm, or alternatively, create two separate scatterplots.\n",
    "  - Create a cross tabulation matrix (i.e., confusion matrix) comparing the true and assigned clusters, and the basic measures (precision, recall, F1, accuracy, etc. - see classification_report). - Explain all configuration parameter values you chose, and why you chose them.\n",
    "Note that you may need to \"match up\" the true and assigned cluster labels.  See the linear-sum-assignment and Hungarian algorithm references, for example.\n",
    "***"
   ]
  },
  {
   "cell_type": "markdown",
   "metadata": {},
   "source": [
    "***\n",
    "## Section: 2.3 - Record Your Observations\n",
    "- What do you observe or conclude from these experiments?\n",
    "- Which is your “preferred” clustering (K value in particular), and why?\n",
    "- Support this with statistics and/or graphs.\n",
    "***"
   ]
  },
  {
   "cell_type": "code",
   "execution_count": null,
   "metadata": {
    "tags": []
   },
   "outputs": [],
   "source": []
  },
  {
   "cell_type": "markdown",
   "metadata": {
    "tags": []
   },
   "source": [
    "***\n",
    "# Section: 3 - Evaluate the **K-Means** Algorithm on the **Large2** Dataset\n",
    "***"
   ]
  },
  {
   "cell_type": "markdown",
   "metadata": {},
   "source": [
    "***\n",
    "## Section: 3.1 - Calculate True Cluster Measures\n",
    "- Given that you know the true clusters (from column y in the original data), compute the true within-cluster WSS (also called “SSE” in the slides), the between-cluster BSS, and the Total SSE (WSS+BSS).\n",
    "***"
   ]
  },
  {
   "cell_type": "code",
   "execution_count": null,
   "metadata": {},
   "outputs": [],
   "source": []
  },
  {
   "cell_type": "markdown",
   "metadata": {},
   "source": [
    "***\n",
    "## Section: 3.2 - Configure and Run the SciKitLearn K-Means Algorithm\n",
    "- Explain all configuration parameter values you chose, and why you chose them.\n",
    "- Run your algorithm for K=2, 3, 4.\n",
    "- For each run:\n",
    "  - Compute the WSS, BSS, and Total SSE (WSS+BSS), and compute the running time (see Python Time reference – see %%time, time.process_time(), etc.).\n",
    "    Create a scatterplot, overlaying the true cluster with the cluster produced by your algorithm, or alternatively, create two separate scatterplots.\n",
    "  - Create a cross tabulation matrix (i.e., confusion matrix) comparing the true and assigned clusters, and the basic measures (precision, recall, F1, accuracy, etc. - see classification_report). - Explain all configuration parameter values you chose, and why you chose them.\n",
    "Note that you may need to \"match up\" the true and assigned cluster labels.  See the linear-sum-assignment and Hungarian algorithm references, for example.\n",
    "***"
   ]
  },
  {
   "cell_type": "code",
   "execution_count": null,
   "metadata": {
    "tags": []
   },
   "outputs": [],
   "source": []
  },
  {
   "cell_type": "markdown",
   "metadata": {},
   "source": [
    "***\n",
    "## Section: 3.3 - Record Your Observations\n",
    "- What do you observe or conclude from these experiments?\n",
    "- Which is your “preferred” clustering (K value in particular), and why?\n",
    "- Support this with statistics and/or graphs.\n",
    "***"
   ]
  },
  {
   "cell_type": "code",
   "execution_count": null,
   "metadata": {
    "tags": []
   },
   "outputs": [],
   "source": []
  },
  {
   "cell_type": "markdown",
   "metadata": {},
   "source": [
    "***\n",
    "# Section: 4 - Evaluate a **Second** Clustering Algorithm on the **Large2** Dataset\n",
    "***"
   ]
  },
  {
   "cell_type": "markdown",
   "metadata": {},
   "source": [
    "***\n",
    "## Section: 4.1 - Choose a Clustering Algorithm from the SciKitLearn Library  \n",
    "- Explain why you chose it.\n",
    "- See the SciKitLearn references.\n",
    "***"
   ]
  },
  {
   "cell_type": "code",
   "execution_count": null,
   "metadata": {},
   "outputs": [],
   "source": []
  },
  {
   "cell_type": "markdown",
   "metadata": {},
   "source": [
    "***\n",
    "## Section: 4.2 - Configure and Run the Algorithm\n",
    "- Do this for (at least) two variations of the configuration settings (if any).  Explain all configuration parameter values you chose, and why you chose them.\n",
    "- For each run:\n",
    "  - Compute the WSS, BSS, and Total SSE (WSS+BSS), and compute the running time (see Python Time reference – see %%time, time.process_time(), etc.).\n",
    "    Create a scatterplot, overlaying the true cluster with the cluster produced by your algorithm, or alternatively, create two separate scatterplots.\n",
    "  - Create a cross tabulation matrix (i.e., confusion matrix) comparing the true and assigned clusters, and the basic measures (precision, recall, F1, accuracy, etc. - see classification_report). - Explain all configuration parameter values you chose, and why you chose them.\n",
    "Note that you may need to \"match up\" the true and assigned cluster labels.  See the linear-sum-assignment and Hungarian algorithm references, for example.\n",
    "***"
   ]
  },
  {
   "cell_type": "code",
   "execution_count": null,
   "metadata": {},
   "outputs": [],
   "source": []
  },
  {
   "cell_type": "markdown",
   "metadata": {},
   "source": [
    "***\n",
    "## Section: 4.3 - Record Your Observations\n",
    "- What do you observe or conclude from these experiments?\n",
    "- Which is your “preferred” clustering (configuration settings, if any), and why?\n",
    "- Support this with statistics and/or graphs.\n",
    "***"
   ]
  },
  {
   "cell_type": "code",
   "execution_count": null,
   "metadata": {
    "tags": []
   },
   "outputs": [],
   "source": []
  },
  {
   "cell_type": "markdown",
   "metadata": {},
   "source": [
    "***\n",
    "# Section: 5 - Evaluate a **Third** Clustering Algorithm on the **Large2** Dataset\n",
    "***"
   ]
  },
  {
   "cell_type": "markdown",
   "metadata": {},
   "source": [
    "***\n",
    "## Section: 5.1 - Choose a Clustering Algorithm from the SciKitLearn Library  \n",
    "- Explain why you chose it.\n",
    "- See the SciKitLearn references.\n",
    "***"
   ]
  },
  {
   "cell_type": "code",
   "execution_count": null,
   "metadata": {},
   "outputs": [],
   "source": []
  },
  {
   "cell_type": "markdown",
   "metadata": {},
   "source": [
    "***\n",
    "## Section: 5.2 - Configure and Run the Algorithm\n",
    "- Do this for (at least) two variations of the configuration settings (if any).  Explain all configuration parameter values you chose, and why you chose them.\n",
    "- For each run:\n",
    "  - Compute the WSS, BSS, and Total SSE (WSS+BSS), and compute the running time (see Python Time reference – see %%time, time.process_time(), etc.).\n",
    "    Create a scatterplot, overlaying the true cluster with the cluster produced by your algorithm, or alternatively, create two separate scatterplots.\n",
    "  - Create a cross tabulation matrix (i.e., confusion matrix) comparing the true and assigned clusters, and the basic measures (precision, recall, F1, accuracy, etc. - see classification_report). - Explain all configuration parameter values you chose, and why you chose them.\n",
    "Note that you may need to \"match up\" the true and assigned cluster labels.  See the linear-sum-assignment and Hungarian algorithm references, for example.\n",
    "***"
   ]
  },
  {
   "cell_type": "code",
   "execution_count": null,
   "metadata": {},
   "outputs": [],
   "source": []
  },
  {
   "cell_type": "markdown",
   "metadata": {},
   "source": [
    "***\n",
    "## Section: 5.3 - Record Your Observations\n",
    "- What do you observe or conclude from these experiments?\n",
    "- Which is your “preferred” clustering (configuration settings, if any), and why?\n",
    "- Support this with statistics and/or graphs.\n",
    "***"
   ]
  },
  {
   "cell_type": "code",
   "execution_count": null,
   "metadata": {
    "tags": []
   },
   "outputs": [],
   "source": []
  },
  {
   "cell_type": "markdown",
   "metadata": {},
   "source": [
    "***\n",
    "# Section: 6 - Comparison of the Three Clustering Algorithms on the **Large2** Dataset\n",
    "***"
   ]
  },
  {
   "cell_type": "markdown",
   "metadata": {},
   "source": [
    "***\n",
    "## Section: 6.1 - Compare Their Performance\n",
    "- What was their relative performance (quality and timing), and their performance versus the true clustering?\n",
    "- What characteristics of the data might impact the clustering algorithms' performance?\n",
    "***"
   ]
  },
  {
   "cell_type": "code",
   "execution_count": null,
   "metadata": {},
   "outputs": [],
   "source": []
  },
  {
   "cell_type": "markdown",
   "metadata": {},
   "source": [
    "***\n",
    "## Section: 6.2 - Choose a Best Clustering Algorithm\n",
    "- Choose one of the three clustering algorithm as best and explain why.\n",
    "***"
   ]
  },
  {
   "cell_type": "code",
   "execution_count": null,
   "metadata": {
    "tags": []
   },
   "outputs": [],
   "source": []
  },
  {
   "cell_type": "markdown",
   "metadata": {},
   "source": [
    "***\n",
    "# Section: 7 - Conclusions\n",
    "- Write a paragraph on what you discovered or learned from this homework.\n",
    "***"
   ]
  },
  {
   "cell_type": "code",
   "execution_count": null,
   "metadata": {
    "tags": []
   },
   "outputs": [],
   "source": []
  },
  {
   "cell_type": "markdown",
   "metadata": {},
   "source": [
    "***\n",
    "### END-OF-SUBMISSION\n",
    "***"
   ]
  }
 ],
 "metadata": {
  "kernelspec": {
   "display_name": "Python 3 (ipykernel)",
   "language": "python",
   "name": "python3"
  },
  "language_info": {
   "codemirror_mode": {
    "name": "ipython",
    "version": 3
   },
   "file_extension": ".py",
   "mimetype": "text/x-python",
   "name": "python",
   "nbconvert_exporter": "python",
   "pygments_lexer": "ipython3",
   "version": "3.7.10"
  },
  "latex_envs": {
   "LaTeX_envs_menu_present": true,
   "autoclose": false,
   "autocomplete": true,
   "bibliofile": "biblio.bib",
   "cite_by": "apalike",
   "current_citInitial": 1,
   "eqLabelWithNumbers": true,
   "eqNumInitial": 1,
   "hotkeys": {
    "equation": "Ctrl-E",
    "itemize": "Ctrl-I"
   },
   "labels_anchors": false,
   "latex_user_defs": false,
   "report_style_numbering": false,
   "user_envs_cfg": false
  }
 },
 "nbformat": 4,
 "nbformat_minor": 4
}
