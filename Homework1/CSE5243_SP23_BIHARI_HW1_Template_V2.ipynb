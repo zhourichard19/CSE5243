{
 "cells": [
  {
   "attachments": {},
   "cell_type": "markdown",
   "metadata": {
    "jp-MarkdownHeadingCollapsed": true,
    "tags": []
   },
   "source": [
    "### CSE 5243 - Introduction to Data Mining\n",
    "\n",
    "## Homework 1: CRISP_DM Steps 1-3 (with Exploratory Data Analysis)\n",
    "\n",
    "Replace the example information below with your real information:\n",
    "\n",
    "- Semester: Spring 2023\n",
    "- Instructor: Tom Bihari\n",
    "- Section Wed/Fri 9:35AM\n",
    "- Student Name: Richard Zhou\n",
    "- Student Email: zhou.3153@osu.edu\n",
    "- Student ID: 500387895\n",
    "\n",
    "Based on CRISP-DM Template Version V11.\n"
   ]
  },
  {
   "attachments": {},
   "cell_type": "markdown",
   "metadata": {
    "tags": []
   },
   "source": [
    "---\n",
    "\n",
    "# Section: Overview\n",
    "\n",
    "- Insert a short description of the scope of this exercise, any supporting information, etc.\n",
    "- **(I will fill this in for each assignment - Tom Bihari)**\n",
    "\n",
    "---\n"
   ]
  },
  {
   "attachments": {},
   "cell_type": "markdown",
   "metadata": {},
   "source": [
    "### Assignment Overview\n",
    "\n",
    "In this assignment, you will analyze an ALTERED copy of the “Hotel Booking Demand” dataset.\n",
    "\n",
    "- This dataset was pulled on 4/8/22 from: https://www.kaggle.com/datasets/jessemostipak/hotel-booking-demand\n",
    "- The dataset file is named: **hotel_bookings_with_errors_V1.csv**\n",
    "\n",
    "**The data has been altered slightly for use in course assignments,etc.:**\n",
    "\n",
    "- A unique ROW attribute has been added.\n",
    "- Errors have been added, such as: duplicated records, deleted records, deleted attribute values, erroneous attribute values.\n",
    "  **DO NOT PUBLISH THIS DATASET - it contains intentionally wrong data!**\n",
    "\n",
    "This assignment covers the **first three of the six steps** of the **CRISP-DM process model** (Business Understanding, Data Understanding, Data Preparation). (See the CRISP-DM materials on CARMEN.)\n",
    "\n",
    "The **objectives** of this assignment are:\n",
    "\n",
    "- By analyzing and thinking critically about the data, you may identify interesting charcteristics that would be useful when using the data.\n",
    "- The final, cleaned-up dataset that you create may be used to build classification / regression models in assignments.\n",
    "\n",
    "### Problem Statement\n",
    "\n",
    "Assume that you are the Director of Data Science for Buckeye Resorts, Inc. (BRI), an international hotel chain. As is the case for all hotel chains, reservation cancellations cause significant impacts to BRI, in profitability, logistics, and other areas. The cost to BRI of a cancelled reservation is $500 on average.\n",
    "\n",
    "- BRI wants to improve (decrease) the cancellation rates at its hotels, using more tailored interventions, based on newly available detailed data. BRI processes 100,000 reservations per year, so an incremental improvement in cancellation rates would have a significant impact.\n",
    "\n",
    "- One intervention being considered is to offer a special financial incentive to customers who have reservations, but who are “at risk” of cancellation. BRI has performed a small pilot test, and has found that offering a $100 discount to a customer who is planning to cancel is effective 30% of the time in inducing the customer not to cancel (by locking in a “no cancellation” clause).\n",
    "\n",
    "- BRI leadership has asked your team to analyze the new data, and determine if it is suitable for developing analyses and models that would be effective in predicting which future reservations are likely to be at risk of cancellation, so the aforementioned financial incentive could be offered.\n",
    "\n",
    "- The head of BRI would then like you attend the upcoming BRI Board of Directors meeting. She has asked you to present your findings to her and to the BOD, to help them decide whether to go forward with the planned tailored intervention approach, and/or to adjust or abandon the approach. Your goal is to support the BOD in making a decision.\n",
    "\n",
    "You decide to look at the dataset, **explore (understand)** what it contains, and **create (prepare)** a clean dataset from it that contains the kind of information you think might be useful.\n",
    "\n",
    "You do not yet know the specific algorithm, formula or model you will use to predict cancallations. **That will come in a later step.**\n",
    "\n",
    "### Things To Do\n",
    "\n",
    "Complete the sections for the first three steps of CRISP-DM in this notebook. Some intial guidance / sugggestions:\n",
    "\n",
    "- **Business Understanding**: Fill in the cells, using your thoughts on the specific item. Your answers will not be graded for \"correctness\", just \"thoughtfulness\". Feel free to \"invent\" a narrative for detailed information not provided above. Don't spend a lot of time on it.\n",
    "- **Data Understanding**: There are many attributes in this dataset. Once you have done some initial analysis, you may choose to concentrate on ones that seem more promising or useful. However, you must give evidence and explain why the attributes that you choose to give less attention warrant the lack of attention.\n",
    "- **Data Preparation**: Clean up the data and save it for future use.\n",
    "\n",
    "It is essential that you **communicate** your goals, thought process, actions, results, and conclusions to the **audience** that will consume this work. It is **not enough** to show just the code. It is not appropriate to show long sections of **unexplained printout**, etc. Be kind to your readers and provide value to them!\n",
    "\n",
    "**ALWAYS follow this pattern** when doing **each portion** of the work. This allows us to give feedback and assign scores, and to give partial credit. Make it easy for the reader to understand your work.\n",
    "\n",
    "- Say (briefly) **what** you are trying to do, and **why**.\n",
    "- Do it (code).\n",
    "- Show or describe the **result** clearly (and briefly as needed), and explain the significant **conclusions or insights** derived from the results.\n",
    "\n",
    "Based on CRISP-DM Template Version V11.\n",
    "\n",
    "**HAVE FUN!**\n"
   ]
  },
  {
   "attachments": {},
   "cell_type": "markdown",
   "metadata": {},
   "source": [
    "---\n",
    "\n",
    "# Section: Setup\n",
    "\n",
    "- Add any needed imports, helper functions, etc., here.\n",
    "\n",
    "---\n"
   ]
  },
  {
   "cell_type": "code",
   "execution_count": 1,
   "metadata": {},
   "outputs": [],
   "source": [
    "import numpy as np\n",
    "import pandas as pd\n",
    "\n",
    "#!pip install matplotlib\n",
    "import matplotlib\n",
    "import matplotlib.pyplot as plt\n",
    "%matplotlib inline\n",
    "#matplotlib.use('Qt5Agg')\n",
    "\n",
    "import seaborn as sns\n",
    "\n",
    "pd.set_option('display.max_columns', 50) #include to avoid ... in middle of display"
   ]
  },
  {
   "attachments": {},
   "cell_type": "markdown",
   "metadata": {
    "tags": []
   },
   "source": [
    "---\n",
    "\n",
    "# Section: 1 - Business Understanding\n",
    "\n",
    "- This step is essential (and occasionally ignored…). It focuses on understanding the business needs and objectives, and defining a data analysis problem that is relevant and useful to the business, so the right solution is built.\n",
    "\n",
    "- Consider the following questions and discuss the possible answers to them in the spaces below.\n",
    "  - It is OK to say that you do not know. How might you get answers to the questions?\n",
    "  - You may consider some of the questions to be \"not applicable\". If so, why?\n",
    "  - You may choose to use markdown instead of raw text in the answer cells, to make them \"pretty\" and easy to read.\n",
    "\n",
    "---\n"
   ]
  },
  {
   "attachments": {},
   "cell_type": "markdown",
   "metadata": {},
   "source": [
    "**Context**\n",
    "\n",
    "- What is the overview, history, big picture?\n"
   ]
  },
  {
   "attachments": {},
   "cell_type": "markdown",
   "metadata": {},
   "source": [
    "The overview of the work is to retain customers. We are trying to keep people from cancelling and offering the 100 discount to the customer is better to have them stay than to have them leave. This is more like \"cutting out losses\"\n",
    "and getting the most benefit that we can out of the situation. The overall largest picture is to make more money.\n"
   ]
  },
  {
   "attachments": {},
   "cell_type": "markdown",
   "metadata": {},
   "source": [
    "**Business Objectives**\n",
    "\n",
    "- What is the problem or opportunity to be addressed / solved?\n",
    "- What is its business value?\n"
   ]
  },
  {
   "attachments": {},
   "cell_type": "markdown",
   "metadata": {
    "tags": []
   },
   "source": [
    "The problem or opportuniy to be addressed is the retention rate of people cancelling their stays. The business value is that if they cancel, the resort loses money. This is because the time that the cancelling customer\n",
    "had the reservation other people who would not have cancelled could have had the opportunity to have the reservation. This means that we are losing more money in oppoortunity and amount returned.\n"
   ]
  },
  {
   "attachments": {},
   "cell_type": "markdown",
   "metadata": {},
   "source": [
    "**Stakeholders**\n",
    "\n",
    "- Who are they?\n",
    "- What are their needs?\n"
   ]
  },
  {
   "attachments": {},
   "cell_type": "markdown",
   "metadata": {},
   "source": [
    "The stakeholders are the future customers who will make future reservations. They need to have more incentives not to cancel and to be persuaded to go on the trip that they reserved.\n",
    "This can be in the form of amenities and monetary\n"
   ]
  },
  {
   "attachments": {},
   "cell_type": "markdown",
   "metadata": {
    "tags": []
   },
   "source": [
    "**General Goals**\n",
    "\n",
    "- Understand the past/current state (descriptive)?\n",
    "- Predict the future (predictive)?\n",
    "- Mine for unknown patterns / insights?\n",
    "- Answer questions? What are they?\n",
    "- Support decisions? What are they?\n"
   ]
  },
  {
   "attachments": {},
   "cell_type": "markdown",
   "metadata": {
    "tags": []
   },
   "source": [
    "The past is where people would cancel and the future holds a lower rate of cancellations using incentives. I predict that in the future with the incentives and other developing ones, the cancellationn rate will decrease.\n",
    "In the future their will be patterns of a higher retention but this issue may arise again and it is up to the company to be creative in the way that they face it.\n"
   ]
  },
  {
   "attachments": {},
   "cell_type": "markdown",
   "metadata": {
    "tags": []
   },
   "source": [
    "**Scope**\n",
    "\n",
    "- What is the specific scope of the project?\n",
    "- What, specifically, is NOT in scope? (What are you not doing that someone might think you are doing?)\n",
    "  Is the scope flexible? In what way?\n"
   ]
  },
  {
   "attachments": {},
   "cell_type": "markdown",
   "metadata": {},
   "source": [
    "The scope of the project is 100$ of incentive sin order to have the customer not cancel the trip. The scope is flexible because there are many ways to persuade and it does not have to be monetary. It could also be\n",
    "a free amenity or an upgrade ata discounted price. The goal is to just keep the customer from cancelling by losing the least amount of money to maximize profit.\n"
   ]
  },
  {
   "attachments": {},
   "cell_type": "markdown",
   "metadata": {},
   "source": [
    "**Deliverables**\n",
    "\n",
    "- Report?\n",
    "- Reusable code?\n",
    "- Presentation?\n"
   ]
  },
  {
   "attachments": {},
   "cell_type": "markdown",
   "metadata": {},
   "source": [
    "The deliverable will be a report but also in the form of a presentation to demonstrate the trends that are happening to the higher ups and from their, a business decision can be made about whether or not to\n",
    "pusue th idea more.\n"
   ]
  },
  {
   "attachments": {},
   "cell_type": "markdown",
   "metadata": {},
   "source": [
    "**Success Criteria**\n",
    "\n",
    "- What, specifically, must be accomplished for this project to be a success?\n"
   ]
  },
  {
   "attachments": {},
   "cell_type": "markdown",
   "metadata": {},
   "source": [
    "For this project to be considereda success, there must be a decrease in people cancelling their reservations.\n"
   ]
  },
  {
   "attachments": {},
   "cell_type": "markdown",
   "metadata": {},
   "source": [
    "**Solution Approach**\n",
    "\n",
    "- Is this a “one time” (throw away) solution?\n",
    "- Or will the solution become part of repeated process that is used and enhanced over time?\n"
   ]
  },
  {
   "attachments": {},
   "cell_type": "markdown",
   "metadata": {},
   "source": [
    "This is not a one time throw away solution, but it is a temporary one. This is just to see the effects of an incentive on the customer who want to cancel. If we see that there is a positive effect, then the business can decide how the inventive hsould be given accordingly and not just a 100 dollar discount.\n"
   ]
  },
  {
   "attachments": {},
   "cell_type": "markdown",
   "metadata": {},
   "source": [
    "**Quality**\n",
    "\n",
    "- What level of Correctness or Confidence is needed?\n",
    "- Is this life-critical or are we looking for ‘directionally correct’ results?\n"
   ]
  },
  {
   "attachments": {},
   "cell_type": "markdown",
   "metadata": {},
   "source": [
    "We are looking for directionally correct results. This is because it is merely a venture to make more money and do better for the business. The elvel of Confidence needed will need to be high because in order to pursue this idea in the future ,it will hav emore money going into it which means moore money must be coming out.\n"
   ]
  },
  {
   "attachments": {},
   "cell_type": "markdown",
   "metadata": {},
   "source": [
    "**Constraints**\n",
    "\n",
    "- Are there legal / regulatory implications (privacy, security, liability, HIPAA, FERPA)?\n",
    "- Are there architectural constraints?\n"
   ]
  },
  {
   "attachments": {},
   "cell_type": "markdown",
   "metadata": {},
   "source": [
    "There are some slight legal constraints with what the business can use as an incentive.\n"
   ]
  },
  {
   "attachments": {},
   "cell_type": "markdown",
   "metadata": {
    "tags": []
   },
   "source": [
    "**Time / Cost**\n",
    "\n",
    "- What is the deadline or budget?\n"
   ]
  },
  {
   "attachments": {},
   "cell_type": "markdown",
   "metadata": {},
   "source": [
    "The deadline will be at the next year. This is because we need to observe not just the everday business but especially when the resort is busy during the holiday and tourist seasons. The budget would be 100$ for each cancelling customer.\n"
   ]
  },
  {
   "attachments": {},
   "cell_type": "markdown",
   "metadata": {
    "tags": []
   },
   "source": [
    "**Dependencies**\n",
    "\n",
    "- Is this project dependent on any other project or activity?\n",
    "- Is any other project or activity dependent on this project?\n"
   ]
  },
  {
   "attachments": {},
   "cell_type": "markdown",
   "metadata": {},
   "source": [
    "This project can stand on its own.\n"
   ]
  },
  {
   "attachments": {},
   "cell_type": "markdown",
   "metadata": {},
   "source": [
    "**Resources Needed**\n",
    "\n",
    "- Do you potentially need access to specific people, data, etc?\n"
   ]
  },
  {
   "attachments": {},
   "cell_type": "markdown",
   "metadata": {},
   "source": [
    "I would need access to the sales database and log the trends oof what is happening with the retention.\n"
   ]
  },
  {
   "attachments": {},
   "cell_type": "markdown",
   "metadata": {},
   "source": [
    "**Other Considerations**\n",
    "\n",
    "- What other considerations, not covered above, might be relevant?\n"
   ]
  },
  {
   "attachments": {},
   "cell_type": "markdown",
   "metadata": {
    "tags": []
   },
   "source": [
    "I feel like a consideration would need to be the time of when the cancellations are happening. in order to be the most effective, if we can predict when most of this will happen that will help.\n"
   ]
  },
  {
   "attachments": {},
   "cell_type": "markdown",
   "metadata": {
    "tags": []
   },
   "source": [
    "---\n",
    "\n",
    "# Section: 2 - Data Understanding\n",
    "\n",
    "- Perform exploratory data analysis of the dataset by looking at individual attributes and/or combinations of attributes. You should focus on identifying and describing interesting observations and insights that you might uncover from the data.\n",
    "- You should not simply provide the basic EDA information for all attributes in the data. Instead, you should focus on those that are more interesting or important, and provide some discussion of what you observe. Pay particular attention to potentially interesting bivariate (two-variable) relationships, as well as the relationship between each attribute and the class attribute (if this is a classification problem).\n",
    "- This step includes:\n",
    "  - Understanding what data might be available and relevant.\n",
    "  - Acquiring the data.\n",
    "  - Understanding the characteristics of the data (e.g., quality, completeness, currency, consistency,…).\n",
    "  - Understanding how other datasets might enhance or supplement the data (and acquiring that data as well).\n",
    "  - Possibly performing some initial analysis to build confidence that the overall direction is likely to be helpful to the business problem to be solved.\n",
    "\n",
    "**NOTE:** Frequently, a first pass is made through the data to fix or remove \"obvious\" data quality issues (missing values, duplicate records, outliers (some), etc.). The deeper Data Understanding analysis then is done on the \"cleaned\" data. This mitigates the issue of bad data skewing the data analysis results. **For this example, we will not do this separate first pass.**\n",
    "\n",
    "---\n"
   ]
  },
  {
   "attachments": {},
   "cell_type": "markdown",
   "metadata": {},
   "source": [
    "---\n",
    "\n",
    "## Section: 2.1 - Describe the meaning and type of data for each attribute.\n",
    "\n",
    "Identify the type of data for each attribute.\n",
    "\n",
    "- Categorical: Nominal, Ordinal\n",
    "- Numerical: Interval, Ratio\n",
    "- Other: Complex or unstructured data (e.g., text strings, images,...)\n",
    "\n",
    "NOTES:\n",
    "\n",
    "- This determines what operations are \"meaningful\" for each attribute. For example, you can't add two Ordinal attributes.\n",
    "- You can't always tell the attribute types from the data itself. For example, an Integer attribute could be Ordinal or Interval.\n",
    "\n",
    "Identify interesting characteristics of the data (e.g., quality, completeness, currency, consistency,…).\n",
    "\n",
    "- Is this dataset relevant and appropriate for the goals of this project?\n",
    "  - If not, what could you do? (find other data to replace or supplement this dataset, etc.)\n",
    "\n",
    "---\n"
   ]
  },
  {
   "attachments": {},
   "cell_type": "markdown",
   "metadata": {},
   "source": [
    "### **Examine the meta-data (e.g., from data dictionary) available for the dataset.**\n"
   ]
  },
  {
   "attachments": {},
   "cell_type": "markdown",
   "metadata": {},
   "source": [
    "**Discussion:**\n",
    "\n",
    "Fill in...\n"
   ]
  },
  {
   "attachments": {},
   "cell_type": "markdown",
   "metadata": {},
   "source": [
    "### **Load the Dataset.**\n"
   ]
  },
  {
   "cell_type": "code",
   "execution_count": 2,
   "metadata": {
    "tags": []
   },
   "outputs": [],
   "source": [
    "#OPTIONAL: Load it only once per session, and save it, so we don't waste time\n",
    "data_df = pd.read_csv(\"..\\Homework1\\hotel_bookings_with_errors_V1.csv\")"
   ]
  },
  {
   "cell_type": "code",
   "execution_count": 3,
   "metadata": {},
   "outputs": [
    {
     "name": "stdout",
     "output_type": "stream",
     "text": [
      "<class 'pandas.core.frame.DataFrame'>\n",
      "RangeIndex: 119391 entries, 0 to 119390\n",
      "Data columns (total 33 columns):\n",
      " #   Column                          Non-Null Count   Dtype  \n",
      "---  ------                          --------------   -----  \n",
      " 0   ROW                             119391 non-null  int64  \n",
      " 1   hotel                           119391 non-null  object \n",
      " 2   is_canceled                     119390 non-null  float64\n",
      " 3   lead_time                       119391 non-null  int64  \n",
      " 4   arrival_date_year               119391 non-null  int64  \n",
      " 5   arrival_date_month              119391 non-null  object \n",
      " 6   arrival_date_week_number        119391 non-null  int64  \n",
      " 7   arrival_date_day_of_month       119391 non-null  int64  \n",
      " 8   stays_in_weekend_nights         119391 non-null  int64  \n",
      " 9   stays_in_week_nights            119391 non-null  int64  \n",
      " 10  adults                          119391 non-null  int64  \n",
      " 11  children                        119387 non-null  float64\n",
      " 12  babies                          119391 non-null  int64  \n",
      " 13  meal                            119391 non-null  object \n",
      " 14  country                         118903 non-null  object \n",
      " 15  market_segment                  119391 non-null  object \n",
      " 16  distribution_channel            119391 non-null  object \n",
      " 17  is_repeated_guest               119391 non-null  int64  \n",
      " 18  previous_cancellations          119391 non-null  int64  \n",
      " 19  previous_bookings_not_canceled  119391 non-null  int64  \n",
      " 20  reserved_room_type              119391 non-null  object \n",
      " 21  assigned_room_type              119391 non-null  object \n",
      " 22  booking_changes                 119391 non-null  int64  \n",
      " 23  deposit_type                    119391 non-null  object \n",
      " 24  agent                           103051 non-null  float64\n",
      " 25  company                         6797 non-null    float64\n",
      " 26  days_in_waiting_list            119391 non-null  int64  \n",
      " 27  customer_type                   119391 non-null  object \n",
      " 28  adr                             119391 non-null  float64\n",
      " 29  required_car_parking_spaces     119391 non-null  int64  \n",
      " 30  total_of_special_requests       119391 non-null  int64  \n",
      " 31  reservation_status              119391 non-null  object \n",
      " 32  reservation_status_date         119391 non-null  object \n",
      "dtypes: float64(5), int64(16), object(12)\n",
      "memory usage: 30.1+ MB\n"
     ]
    }
   ],
   "source": [
    "# Print the schema, based on the data in the file.\n",
    "data_df.info()"
   ]
  },
  {
   "attachments": {},
   "cell_type": "markdown",
   "metadata": {},
   "source": [
    "**Discussion:**\n",
    "\n",
    "Fill in...\n"
   ]
  },
  {
   "cell_type": "code",
   "execution_count": 4,
   "metadata": {},
   "outputs": [
    {
     "name": "stdout",
     "output_type": "stream",
     "text": [
      "['ROW', 'hotel', 'is_canceled', 'lead_time', 'arrival_date_year', 'arrival_date_month', 'arrival_date_week_number', 'arrival_date_day_of_month', 'stays_in_weekend_nights', 'stays_in_week_nights', 'adults', 'children', 'babies', 'meal', 'country', 'market_segment', 'distribution_channel', 'is_repeated_guest', 'previous_cancellations', 'previous_bookings_not_canceled', 'reserved_room_type', 'assigned_room_type', 'booking_changes', 'deposit_type', 'agent', 'company', 'days_in_waiting_list', 'customer_type', 'adr', 'required_car_parking_spaces', 'total_of_special_requests', 'reservation_status', 'reservation_status_date']\n"
     ]
    }
   ],
   "source": [
    "# Create some simple lists for future use\n",
    "all_attribute_names = list(data_df)\n",
    "print(all_attribute_names)\n",
    "class_attribute_name = 'is_canceled'\n",
    "nominal_attribute_names = ['hotel', 'arrival_date_month', 'meal', 'country', 'market_segment', 'distribution_channel', 'reserved_room_type', 'assigned_room_type', 'deposit_type', 'agent', 'company', 'customer_type', 'required_car_parking_spaces', 'total_of_special_requests', 'reservation_status', 'reservation_status_date']\n",
    "ordinal_attribute_names = []\n",
    "categorical_attribute_names = nominal_attribute_names + ordinal_attribute_names\n",
    "interval_attribute_names = ['lead_time', 'arrival_date_year', 'arrival_date_week_number', 'arrival_date_day_of_month', 'is_repeated_guest', 'previous_cancellations', 'previous_bookings_not_canceled']\n",
    "ratio_attribute_names = ['adults', 'children', 'babies', 'booking_changes', 'days_in_waiting_list']\n",
    "numerical_attribute_names = interval_attribute_names + ratio_attribute_names"
   ]
  },
  {
   "attachments": {},
   "cell_type": "markdown",
   "metadata": {
    "tags": []
   },
   "source": [
    "---\n",
    "\n",
    "## Section: 2.2 - Provide basic statistics for the attributes.\n",
    "\n",
    "- For example: counts, percentiles, mean, median, standard deviation. The statistics should be relevant for the type of attribute.\n",
    "\n",
    "---\n"
   ]
  },
  {
   "cell_type": "code",
   "execution_count": null,
   "metadata": {},
   "outputs": [],
   "source": []
  },
  {
   "cell_type": "code",
   "execution_count": 5,
   "metadata": {},
   "outputs": [
    {
     "data": {
      "text/html": [
       "<div>\n",
       "<style scoped>\n",
       "    .dataframe tbody tr th:only-of-type {\n",
       "        vertical-align: middle;\n",
       "    }\n",
       "\n",
       "    .dataframe tbody tr th {\n",
       "        vertical-align: top;\n",
       "    }\n",
       "\n",
       "    .dataframe thead th {\n",
       "        text-align: right;\n",
       "    }\n",
       "</style>\n",
       "<table border=\"1\" class=\"dataframe\">\n",
       "  <thead>\n",
       "    <tr style=\"text-align: right;\">\n",
       "      <th></th>\n",
       "      <th>ROW</th>\n",
       "      <th>is_canceled</th>\n",
       "      <th>lead_time</th>\n",
       "      <th>arrival_date_year</th>\n",
       "      <th>arrival_date_week_number</th>\n",
       "      <th>arrival_date_day_of_month</th>\n",
       "      <th>stays_in_weekend_nights</th>\n",
       "      <th>stays_in_week_nights</th>\n",
       "      <th>adults</th>\n",
       "      <th>children</th>\n",
       "      <th>babies</th>\n",
       "      <th>is_repeated_guest</th>\n",
       "      <th>previous_cancellations</th>\n",
       "      <th>previous_bookings_not_canceled</th>\n",
       "      <th>booking_changes</th>\n",
       "      <th>agent</th>\n",
       "      <th>company</th>\n",
       "      <th>days_in_waiting_list</th>\n",
       "      <th>adr</th>\n",
       "      <th>required_car_parking_spaces</th>\n",
       "      <th>total_of_special_requests</th>\n",
       "    </tr>\n",
       "  </thead>\n",
       "  <tbody>\n",
       "    <tr>\n",
       "      <th>count</th>\n",
       "      <td>119391.000000</td>\n",
       "      <td>119390.000000</td>\n",
       "      <td>119391.000000</td>\n",
       "      <td>119391.000000</td>\n",
       "      <td>119391.000000</td>\n",
       "      <td>119391.000000</td>\n",
       "      <td>119391.000000</td>\n",
       "      <td>119391.000000</td>\n",
       "      <td>119391.000000</td>\n",
       "      <td>119387.000000</td>\n",
       "      <td>119391.000000</td>\n",
       "      <td>119391.000000</td>\n",
       "      <td>119391.000000</td>\n",
       "      <td>119391.000000</td>\n",
       "      <td>119391.000000</td>\n",
       "      <td>103051.00000</td>\n",
       "      <td>6797.000000</td>\n",
       "      <td>119391.000000</td>\n",
       "      <td>119391.000000</td>\n",
       "      <td>119391.000000</td>\n",
       "      <td>119391.000000</td>\n",
       "    </tr>\n",
       "    <tr>\n",
       "      <th>mean</th>\n",
       "      <td>59694.000050</td>\n",
       "      <td>0.370408</td>\n",
       "      <td>104.010662</td>\n",
       "      <td>2016.156544</td>\n",
       "      <td>27.165172</td>\n",
       "      <td>15.798117</td>\n",
       "      <td>0.927591</td>\n",
       "      <td>2.500297</td>\n",
       "      <td>1.856572</td>\n",
       "      <td>0.103889</td>\n",
       "      <td>0.007949</td>\n",
       "      <td>0.031912</td>\n",
       "      <td>0.087117</td>\n",
       "      <td>0.137096</td>\n",
       "      <td>0.221122</td>\n",
       "      <td>86.69487</td>\n",
       "      <td>189.266735</td>\n",
       "      <td>2.321130</td>\n",
       "      <td>101.831089</td>\n",
       "      <td>0.062517</td>\n",
       "      <td>0.571366</td>\n",
       "    </tr>\n",
       "    <tr>\n",
       "      <th>std</th>\n",
       "      <td>34465.357245</td>\n",
       "      <td>0.482916</td>\n",
       "      <td>106.862967</td>\n",
       "      <td>0.707481</td>\n",
       "      <td>13.605081</td>\n",
       "      <td>8.780897</td>\n",
       "      <td>0.998613</td>\n",
       "      <td>1.908278</td>\n",
       "      <td>0.582185</td>\n",
       "      <td>0.398560</td>\n",
       "      <td>0.097436</td>\n",
       "      <td>0.175766</td>\n",
       "      <td>0.844333</td>\n",
       "      <td>1.497431</td>\n",
       "      <td>0.652303</td>\n",
       "      <td>110.77504</td>\n",
       "      <td>131.655015</td>\n",
       "      <td>17.594648</td>\n",
       "      <td>50.535580</td>\n",
       "      <td>0.245290</td>\n",
       "      <td>0.792796</td>\n",
       "    </tr>\n",
       "    <tr>\n",
       "      <th>min</th>\n",
       "      <td>0.000000</td>\n",
       "      <td>0.000000</td>\n",
       "      <td>0.000000</td>\n",
       "      <td>2015.000000</td>\n",
       "      <td>1.000000</td>\n",
       "      <td>1.000000</td>\n",
       "      <td>0.000000</td>\n",
       "      <td>0.000000</td>\n",
       "      <td>0.000000</td>\n",
       "      <td>0.000000</td>\n",
       "      <td>0.000000</td>\n",
       "      <td>0.000000</td>\n",
       "      <td>0.000000</td>\n",
       "      <td>0.000000</td>\n",
       "      <td>0.000000</td>\n",
       "      <td>1.00000</td>\n",
       "      <td>6.000000</td>\n",
       "      <td>0.000000</td>\n",
       "      <td>-6.380000</td>\n",
       "      <td>0.000000</td>\n",
       "      <td>0.000000</td>\n",
       "    </tr>\n",
       "    <tr>\n",
       "      <th>25%</th>\n",
       "      <td>29846.500000</td>\n",
       "      <td>0.000000</td>\n",
       "      <td>18.000000</td>\n",
       "      <td>2016.000000</td>\n",
       "      <td>16.000000</td>\n",
       "      <td>8.000000</td>\n",
       "      <td>0.000000</td>\n",
       "      <td>1.000000</td>\n",
       "      <td>2.000000</td>\n",
       "      <td>0.000000</td>\n",
       "      <td>0.000000</td>\n",
       "      <td>0.000000</td>\n",
       "      <td>0.000000</td>\n",
       "      <td>0.000000</td>\n",
       "      <td>0.000000</td>\n",
       "      <td>9.00000</td>\n",
       "      <td>62.000000</td>\n",
       "      <td>0.000000</td>\n",
       "      <td>69.290000</td>\n",
       "      <td>0.000000</td>\n",
       "      <td>0.000000</td>\n",
       "    </tr>\n",
       "    <tr>\n",
       "      <th>50%</th>\n",
       "      <td>59694.000000</td>\n",
       "      <td>0.000000</td>\n",
       "      <td>69.000000</td>\n",
       "      <td>2016.000000</td>\n",
       "      <td>28.000000</td>\n",
       "      <td>16.000000</td>\n",
       "      <td>1.000000</td>\n",
       "      <td>2.000000</td>\n",
       "      <td>2.000000</td>\n",
       "      <td>0.000000</td>\n",
       "      <td>0.000000</td>\n",
       "      <td>0.000000</td>\n",
       "      <td>0.000000</td>\n",
       "      <td>0.000000</td>\n",
       "      <td>0.000000</td>\n",
       "      <td>14.00000</td>\n",
       "      <td>179.000000</td>\n",
       "      <td>0.000000</td>\n",
       "      <td>94.590000</td>\n",
       "      <td>0.000000</td>\n",
       "      <td>0.000000</td>\n",
       "    </tr>\n",
       "    <tr>\n",
       "      <th>75%</th>\n",
       "      <td>89541.500000</td>\n",
       "      <td>1.000000</td>\n",
       "      <td>160.000000</td>\n",
       "      <td>2017.000000</td>\n",
       "      <td>38.000000</td>\n",
       "      <td>23.000000</td>\n",
       "      <td>2.000000</td>\n",
       "      <td>3.000000</td>\n",
       "      <td>2.000000</td>\n",
       "      <td>0.000000</td>\n",
       "      <td>0.000000</td>\n",
       "      <td>0.000000</td>\n",
       "      <td>0.000000</td>\n",
       "      <td>0.000000</td>\n",
       "      <td>0.000000</td>\n",
       "      <td>229.00000</td>\n",
       "      <td>270.000000</td>\n",
       "      <td>0.000000</td>\n",
       "      <td>126.000000</td>\n",
       "      <td>0.000000</td>\n",
       "      <td>1.000000</td>\n",
       "    </tr>\n",
       "    <tr>\n",
       "      <th>max</th>\n",
       "      <td>119389.000000</td>\n",
       "      <td>1.000000</td>\n",
       "      <td>737.000000</td>\n",
       "      <td>2017.000000</td>\n",
       "      <td>53.000000</td>\n",
       "      <td>31.000000</td>\n",
       "      <td>19.000000</td>\n",
       "      <td>50.000000</td>\n",
       "      <td>55.000000</td>\n",
       "      <td>10.000000</td>\n",
       "      <td>10.000000</td>\n",
       "      <td>1.000000</td>\n",
       "      <td>26.000000</td>\n",
       "      <td>72.000000</td>\n",
       "      <td>21.000000</td>\n",
       "      <td>535.00000</td>\n",
       "      <td>543.000000</td>\n",
       "      <td>391.000000</td>\n",
       "      <td>5400.000000</td>\n",
       "      <td>8.000000</td>\n",
       "      <td>5.000000</td>\n",
       "    </tr>\n",
       "  </tbody>\n",
       "</table>\n",
       "</div>"
      ],
      "text/plain": [
       "                 ROW    is_canceled      lead_time  arrival_date_year  \\\n",
       "count  119391.000000  119390.000000  119391.000000      119391.000000   \n",
       "mean    59694.000050       0.370408     104.010662        2016.156544   \n",
       "std     34465.357245       0.482916     106.862967           0.707481   \n",
       "min         0.000000       0.000000       0.000000        2015.000000   \n",
       "25%     29846.500000       0.000000      18.000000        2016.000000   \n",
       "50%     59694.000000       0.000000      69.000000        2016.000000   \n",
       "75%     89541.500000       1.000000     160.000000        2017.000000   \n",
       "max    119389.000000       1.000000     737.000000        2017.000000   \n",
       "\n",
       "       arrival_date_week_number  arrival_date_day_of_month  \\\n",
       "count             119391.000000              119391.000000   \n",
       "mean                  27.165172                  15.798117   \n",
       "std                   13.605081                   8.780897   \n",
       "min                    1.000000                   1.000000   \n",
       "25%                   16.000000                   8.000000   \n",
       "50%                   28.000000                  16.000000   \n",
       "75%                   38.000000                  23.000000   \n",
       "max                   53.000000                  31.000000   \n",
       "\n",
       "       stays_in_weekend_nights  stays_in_week_nights         adults  \\\n",
       "count            119391.000000         119391.000000  119391.000000   \n",
       "mean                  0.927591              2.500297       1.856572   \n",
       "std                   0.998613              1.908278       0.582185   \n",
       "min                   0.000000              0.000000       0.000000   \n",
       "25%                   0.000000              1.000000       2.000000   \n",
       "50%                   1.000000              2.000000       2.000000   \n",
       "75%                   2.000000              3.000000       2.000000   \n",
       "max                  19.000000             50.000000      55.000000   \n",
       "\n",
       "            children         babies  is_repeated_guest  \\\n",
       "count  119387.000000  119391.000000      119391.000000   \n",
       "mean        0.103889       0.007949           0.031912   \n",
       "std         0.398560       0.097436           0.175766   \n",
       "min         0.000000       0.000000           0.000000   \n",
       "25%         0.000000       0.000000           0.000000   \n",
       "50%         0.000000       0.000000           0.000000   \n",
       "75%         0.000000       0.000000           0.000000   \n",
       "max        10.000000      10.000000           1.000000   \n",
       "\n",
       "       previous_cancellations  previous_bookings_not_canceled  \\\n",
       "count           119391.000000                   119391.000000   \n",
       "mean                 0.087117                        0.137096   \n",
       "std                  0.844333                        1.497431   \n",
       "min                  0.000000                        0.000000   \n",
       "25%                  0.000000                        0.000000   \n",
       "50%                  0.000000                        0.000000   \n",
       "75%                  0.000000                        0.000000   \n",
       "max                 26.000000                       72.000000   \n",
       "\n",
       "       booking_changes         agent      company  days_in_waiting_list  \\\n",
       "count    119391.000000  103051.00000  6797.000000         119391.000000   \n",
       "mean          0.221122      86.69487   189.266735              2.321130   \n",
       "std           0.652303     110.77504   131.655015             17.594648   \n",
       "min           0.000000       1.00000     6.000000              0.000000   \n",
       "25%           0.000000       9.00000    62.000000              0.000000   \n",
       "50%           0.000000      14.00000   179.000000              0.000000   \n",
       "75%           0.000000     229.00000   270.000000              0.000000   \n",
       "max          21.000000     535.00000   543.000000            391.000000   \n",
       "\n",
       "                 adr  required_car_parking_spaces  total_of_special_requests  \n",
       "count  119391.000000                119391.000000              119391.000000  \n",
       "mean      101.831089                     0.062517                   0.571366  \n",
       "std        50.535580                     0.245290                   0.792796  \n",
       "min        -6.380000                     0.000000                   0.000000  \n",
       "25%        69.290000                     0.000000                   0.000000  \n",
       "50%        94.590000                     0.000000                   0.000000  \n",
       "75%       126.000000                     0.000000                   1.000000  \n",
       "max      5400.000000                     8.000000                   5.000000  "
      ]
     },
     "execution_count": 5,
     "metadata": {},
     "output_type": "execute_result"
    }
   ],
   "source": [
    "data_df.describe()"
   ]
  },
  {
   "attachments": {},
   "cell_type": "markdown",
   "metadata": {
    "tags": []
   },
   "source": [
    "**Discussion:**\n",
    "\n",
    "Fill in...\n"
   ]
  },
  {
   "attachments": {},
   "cell_type": "markdown",
   "metadata": {},
   "source": [
    "Some things that could be wrong are that there are missing values andthat maybe people put dates that are not actually dates within the month\n"
   ]
  },
  {
   "attachments": {},
   "cell_type": "markdown",
   "metadata": {},
   "source": [
    "---\n",
    "\n",
    "## Section: 2.3 - Visualize / analyze the most important or interesting attributes using appropriate techniques.\n",
    "\n",
    "- For each visualization, provide an interpretation explaining why it is appropriate or interesting. What does each visualization tell us?\n",
    "\n",
    "---\n"
   ]
  },
  {
   "attachments": {},
   "cell_type": "markdown",
   "metadata": {},
   "source": [
    "The visualization that I did shows all of the categorical elements of the data. This would include the nominal and ordinal data. This data is appealing because it shows the rate at which customers tend to cancel and also demonstrates trends for the company to see if there are positive and negative trends. Also the company can greater understand their role to the customer. For example, most of the customers are from PRT and about 44000 are cancelled. It is good to see basic trends quickly.\n"
   ]
  },
  {
   "cell_type": "code",
   "execution_count": 6,
   "metadata": {},
   "outputs": [
    {
     "name": "stdout",
     "output_type": "stream",
     "text": [
      "Total Records: 119391 - Value Counts per Categorical Attribute:\n",
      "\n",
      "City Hotel      79330\n",
      "Resort Hotel    40061\n",
      "Name: hotel, dtype: int64\n",
      "\n",
      "\n",
      "August       13877\n",
      "July         12662\n",
      "May          11791\n",
      "October      11160\n",
      "April        11089\n",
      "June         10939\n",
      "September    10508\n",
      "March         9794\n",
      "February      8068\n",
      "November      6794\n",
      "December      6780\n",
      "January       5929\n",
      "Name: arrival_date_month, dtype: int64\n",
      "\n",
      "\n",
      "BB           92311\n",
      "HB           14463\n",
      "SC           10650\n",
      "Undefined     1169\n",
      "FB             798\n",
      "Name: meal, dtype: int64\n",
      "\n",
      "\n",
      "PRT    48590\n",
      "GBR    12130\n",
      "FRA    10415\n",
      "ESP     8568\n",
      "DEU     7287\n",
      "       ...  \n",
      "DJI        1\n",
      "BWA        1\n",
      "HND        1\n",
      "VGB        1\n",
      "NAM        1\n",
      "Name: country, Length: 178, dtype: int64\n",
      "\n",
      "\n",
      "Online TA        56477\n",
      "Offline TA/TO    24219\n",
      "Groups           19811\n",
      "Direct           12606\n",
      "Corporate         5295\n",
      "Complementary      743\n",
      "Aviation           237\n",
      "Undefined            2\n",
      "Onlin TA             1\n",
      "Name: market_segment, dtype: int64\n",
      "\n",
      "\n",
      "TA/TO        97871\n",
      "Direct       14645\n",
      "Corporate     6677\n",
      "GDS            193\n",
      "Undefined        5\n",
      "Name: distribution_channel, dtype: int64\n",
      "\n",
      "\n",
      "A    85995\n",
      "D    19201\n",
      "E     6535\n",
      "F     2897\n",
      "G     2094\n",
      "B     1118\n",
      "C      932\n",
      "H      601\n",
      "P       12\n",
      "L        6\n",
      "Name: reserved_room_type, dtype: int64\n",
      "\n",
      "\n",
      "A    74054\n",
      "D    25322\n",
      "E     7806\n",
      "F     3751\n",
      "G     2553\n",
      "C     2375\n",
      "B     2163\n",
      "H      712\n",
      "I      363\n",
      "K      279\n",
      "P       12\n",
      "L        1\n",
      "Name: assigned_room_type, dtype: int64\n",
      "\n",
      "\n",
      "No Deposit    104642\n",
      "Non Refund     14587\n",
      "Refundable       162\n",
      "Name: deposit_type, dtype: int64\n",
      "\n",
      "\n",
      "9.0      31961\n",
      "NaN      16340\n",
      "240.0    13923\n",
      "1.0       7191\n",
      "14.0      3640\n",
      "         ...  \n",
      "280.0        1\n",
      "285.0        1\n",
      "289.0        1\n",
      "265.0        1\n",
      "497.0        1\n",
      "Name: agent, Length: 334, dtype: int64\n",
      "\n",
      "\n",
      "NaN      112594\n",
      "40.0        927\n",
      "223.0       784\n",
      "67.0        267\n",
      "45.0        250\n",
      "          ...  \n",
      "32.0          1\n",
      "11.0          1\n",
      "487.0         1\n",
      "101.0         1\n",
      "376.0         1\n",
      "Name: company, Length: 353, dtype: int64\n",
      "\n",
      "\n",
      "Transient          89614\n",
      "Transient-Party    25124\n",
      "Contract            4076\n",
      "Group                577\n",
      "Name: customer_type, dtype: int64\n",
      "\n",
      "\n",
      "0    111975\n",
      "1      7383\n",
      "2        28\n",
      "3         3\n",
      "8         2\n",
      "Name: required_car_parking_spaces, dtype: int64\n",
      "\n",
      "\n",
      "0    70318\n",
      "1    33227\n",
      "2    12969\n",
      "3     2497\n",
      "4      340\n",
      "5       40\n",
      "Name: total_of_special_requests, dtype: int64\n",
      "\n",
      "\n",
      "Check-Out    75167\n",
      "Canceled     43017\n",
      "No-Show       1207\n",
      "Name: reservation_status, dtype: int64\n",
      "\n",
      "\n",
      "10/21/2015    1461\n",
      "7/6/2015       805\n",
      "11/25/2016     790\n",
      "1/1/2015       763\n",
      "1/18/2016      625\n",
      "              ... \n",
      "2/27/2015        1\n",
      "4/25/2015        1\n",
      "3/11/2015        1\n",
      "6/14/2015        1\n",
      "2/12/2015        1\n",
      "Name: reservation_status_date, Length: 926, dtype: int64\n",
      "\n",
      "\n"
     ]
    }
   ],
   "source": [
    "print(\"Total Records:\", data_df.shape[0], \"- Value Counts per Categorical Attribute:\\n\")\n",
    "for att in categorical_attribute_names:\n",
    "    print(data_df[att].value_counts(normalize = False, sort = True, ascending = False, bins = None, dropna = False))\n",
    "    print(\"\\n\")"
   ]
  },
  {
   "attachments": {},
   "cell_type": "markdown",
   "metadata": {
    "tags": []
   },
   "source": [
    "**Discussion:**\n",
    "\n",
    "Fill in...\n"
   ]
  },
  {
   "cell_type": "markdown",
   "metadata": {},
   "source": [
    "There are some Nan values like in the is_cancelled,agent, and company columns\n",
    "In the market segment section there is a typo with Onlin TA which should be Online\n",
    "There are 5 undefined distributino channels which could be an accident\n",
    "There might be missing rooms because the alphabet goes from A-P and is missing J,M,N,O\n"
   ]
  },
  {
   "attachments": {},
   "cell_type": "markdown",
   "metadata": {},
   "source": [
    "---\n",
    "\n",
    "## Section: 2.4 - Verify data quality: explain any missing values, duplicate data, or outliers.\n",
    "\n",
    "- What, if anything, do you need to do about these? Be specific.\n",
    "\n",
    "---\n"
   ]
  },
  {
   "attachments": {},
   "cell_type": "markdown",
   "metadata": {},
   "source": [
    "**Missing Attribute Values**\n"
   ]
  },
  {
   "cell_type": "code",
   "execution_count": 7,
   "metadata": {
    "tags": []
   },
   "outputs": [
    {
     "name": "stdout",
     "output_type": "stream",
     "text": [
      "Total Records: 119391 - Number of Records with NA: 119174 - Number of NA Values: 129427\n",
      "NA Values per Attribute:\n",
      "is_canceled 1\n",
      "children 4\n",
      "country 488\n",
      "agent 16340\n",
      "company 112594\n"
     ]
    }
   ],
   "source": [
    "# Count the missing values for the entire dataframe.\n",
    "na_df = data_df[data_df.isna().any(axis=1)]\n",
    "num_records_with_na = na_df.shape[0]\n",
    "num_na_values = na_df.isna().sum().sum()\n",
    "\n",
    "print(\"Total Records:\", data_df.shape[0], \"- Number of Records with NA:\", num_records_with_na, \"- Number of NA Values:\", num_na_values)\n",
    "na_df.head(10)\n",
    "\n",
    "# Show the missing values for each attribute.\n",
    "print(\"NA Values per Attribute:\")\n",
    "for att in all_attribute_names:\n",
    "    num_na = na_df[att].isna().sum()\n",
    "    if num_na > 0:\n",
    "        print(att,na_df[att].isna().sum())"
   ]
  },
  {
   "attachments": {},
   "cell_type": "markdown",
   "metadata": {},
   "source": [
    "Regarding these values, the company would need to first find the is_cancelled because this brings ambiguity to whether or not the customer is or is not cancelled and does not allow for the company to address accordingly. This would also effect how successful the project is because the project is based off of whether people cancel or not.\n",
    "\n",
    "Regarding the children column the company should reach to understand how many people are being housed in those rooms to accomodate.\n",
    "\n",
    "The country is not needed but is a good resource to have to understand the customers background. (EDIT)\n",
    "\n",
    "The agents and company's columns could be null because those customers could have booked by themselves off of the websiite and not off another company or third party.\n"
   ]
  },
  {
   "attachments": {},
   "cell_type": "markdown",
   "metadata": {
    "tags": []
   },
   "source": [
    "**Duplicate Records**\n"
   ]
  },
  {
   "cell_type": "code",
   "execution_count": 8,
   "metadata": {},
   "outputs": [
    {
     "name": "stdout",
     "output_type": "stream",
     "text": [
      "Number of duplicate records across all attributes: 1\n"
     ]
    },
    {
     "data": {
      "text/html": [
       "<div>\n",
       "<style scoped>\n",
       "    .dataframe tbody tr th:only-of-type {\n",
       "        vertical-align: middle;\n",
       "    }\n",
       "\n",
       "    .dataframe tbody tr th {\n",
       "        vertical-align: top;\n",
       "    }\n",
       "\n",
       "    .dataframe thead th {\n",
       "        text-align: right;\n",
       "    }\n",
       "</style>\n",
       "<table border=\"1\" class=\"dataframe\">\n",
       "  <thead>\n",
       "    <tr style=\"text-align: right;\">\n",
       "      <th></th>\n",
       "      <th>ROW</th>\n",
       "      <th>hotel</th>\n",
       "      <th>is_canceled</th>\n",
       "      <th>lead_time</th>\n",
       "      <th>arrival_date_year</th>\n",
       "      <th>arrival_date_month</th>\n",
       "      <th>arrival_date_week_number</th>\n",
       "      <th>arrival_date_day_of_month</th>\n",
       "      <th>stays_in_weekend_nights</th>\n",
       "      <th>stays_in_week_nights</th>\n",
       "      <th>adults</th>\n",
       "      <th>children</th>\n",
       "      <th>babies</th>\n",
       "      <th>meal</th>\n",
       "      <th>country</th>\n",
       "      <th>market_segment</th>\n",
       "      <th>distribution_channel</th>\n",
       "      <th>is_repeated_guest</th>\n",
       "      <th>previous_cancellations</th>\n",
       "      <th>previous_bookings_not_canceled</th>\n",
       "      <th>reserved_room_type</th>\n",
       "      <th>assigned_room_type</th>\n",
       "      <th>booking_changes</th>\n",
       "      <th>deposit_type</th>\n",
       "      <th>agent</th>\n",
       "      <th>company</th>\n",
       "      <th>days_in_waiting_list</th>\n",
       "      <th>customer_type</th>\n",
       "      <th>adr</th>\n",
       "      <th>required_car_parking_spaces</th>\n",
       "      <th>total_of_special_requests</th>\n",
       "      <th>reservation_status</th>\n",
       "      <th>reservation_status_date</th>\n",
       "    </tr>\n",
       "  </thead>\n",
       "  <tbody>\n",
       "    <tr>\n",
       "      <th>6</th>\n",
       "      <td>5</td>\n",
       "      <td>Resort Hotel</td>\n",
       "      <td>0.0</td>\n",
       "      <td>14</td>\n",
       "      <td>2015</td>\n",
       "      <td>July</td>\n",
       "      <td>27</td>\n",
       "      <td>1</td>\n",
       "      <td>0</td>\n",
       "      <td>2</td>\n",
       "      <td>2</td>\n",
       "      <td>0.0</td>\n",
       "      <td>0</td>\n",
       "      <td>BB</td>\n",
       "      <td>GBR</td>\n",
       "      <td>Online TA</td>\n",
       "      <td>TA/TO</td>\n",
       "      <td>0</td>\n",
       "      <td>0</td>\n",
       "      <td>0</td>\n",
       "      <td>A</td>\n",
       "      <td>A</td>\n",
       "      <td>0</td>\n",
       "      <td>No Deposit</td>\n",
       "      <td>240.0</td>\n",
       "      <td>NaN</td>\n",
       "      <td>0</td>\n",
       "      <td>Transient</td>\n",
       "      <td>98.0</td>\n",
       "      <td>0</td>\n",
       "      <td>1</td>\n",
       "      <td>Check-Out</td>\n",
       "      <td>7/3/2015</td>\n",
       "    </tr>\n",
       "  </tbody>\n",
       "</table>\n",
       "</div>"
      ],
      "text/plain": [
       "   ROW         hotel  is_canceled  lead_time  arrival_date_year  \\\n",
       "6    5  Resort Hotel          0.0         14               2015   \n",
       "\n",
       "  arrival_date_month  arrival_date_week_number  arrival_date_day_of_month  \\\n",
       "6               July                        27                          1   \n",
       "\n",
       "   stays_in_weekend_nights  stays_in_week_nights  adults  children  babies  \\\n",
       "6                        0                     2       2       0.0       0   \n",
       "\n",
       "  meal country market_segment distribution_channel  is_repeated_guest  \\\n",
       "6   BB     GBR      Online TA                TA/TO                  0   \n",
       "\n",
       "   previous_cancellations  previous_bookings_not_canceled reserved_room_type  \\\n",
       "6                       0                               0                  A   \n",
       "\n",
       "  assigned_room_type  booking_changes deposit_type  agent  company  \\\n",
       "6                  A                0   No Deposit  240.0      NaN   \n",
       "\n",
       "   days_in_waiting_list customer_type   adr  required_car_parking_spaces  \\\n",
       "6                     0     Transient  98.0                            0   \n",
       "\n",
       "   total_of_special_requests reservation_status reservation_status_date  \n",
       "6                          1          Check-Out                7/3/2015  "
      ]
     },
     "execution_count": 8,
     "metadata": {},
     "output_type": "execute_result"
    }
   ],
   "source": [
    "# Find duplicate records across all attributes.\n",
    "dup_df = data_df[data_df.duplicated()]\n",
    "num_dup_records = dup_df.shape[0]\n",
    "\n",
    "print(\"Number of duplicate records across all attributes:\", num_dup_records)\n",
    "dup_df.head(10)"
   ]
  },
  {
   "attachments": {},
   "cell_type": "markdown",
   "metadata": {},
   "source": [
    "We can see there is one duplicate row which we will get ride of this row.\n"
   ]
  },
  {
   "attachments": {},
   "cell_type": "markdown",
   "metadata": {},
   "source": [
    "**Outliers**\n"
   ]
  },
  {
   "cell_type": "code",
   "execution_count": 9,
   "metadata": {},
   "outputs": [],
   "source": [
    "# This is a simple filter that uses 1.5 x the Inter-Quantile Range.\n",
    "# See: https://stackoverflow.com/questions/69248118/detect-outliers-across-all-columns-of-pandas-dataframe\n",
    "def find_outliers(df_in, att_name):\n",
    "    quantile_low  = 0.25  # These are typical values, but you can set them as apropriate - see literature\n",
    "    quantile_high = 0.75\n",
    "    multiplier = 1.5\n",
    "    \n",
    "    Q1 = df_in[att_name].quantile(int(quantile_low))\n",
    "    Q3 = df_in[att_name].quantile(float(quantile_high))\n",
    "    IQR = float(Q3)-float(Q1)\n",
    "    good_range_low  = Q1 - multiplier * IQR\n",
    "    good_range_high = Q3 + multiplier * IQR\n",
    "    \n",
    "    outlier_list=((df_in[att_name] <= good_range_low) | (df_in[att_name] >= good_range_high)).tolist()\n",
    "    outlier_indices=[i for i, x in enumerate(outlier_list) if x]\n",
    "\n",
    "    if len(outlier_indices) > 0:\n",
    "        outlier_value_list = []\n",
    "        for i in outlier_indices:\n",
    "            outlier_value_list.append( [i, df_in.iloc[i][att_name]] )\n",
    "            \n",
    "        from operator import itemgetter\n",
    "        outlier_value_list = sorted(outlier_value_list, key=itemgetter(1), reverse=True)\n",
    "        \n",
    "        print(\"\\nAttribute: [\", att_name, \"]   Good Range: [\",good_range_low, \",\", good_range_high, \"]   Number of Outliers: [\", len(outlier_indices),\"]\")\n",
    "        print(\"Index           Value\")\n",
    "        for i in outlier_value_list:\n",
    "            print(\"%5d      %10.3f\" % (i[0], i[1]))\n",
    "\n",
    "        plt.figure(figsize=(10,1))\n",
    "        sns.boxplot(x=att_name, data=df_in)\n",
    "        plt.show()\n",
    "    \n",
    "    return outlier_indices"
   ]
  },
  {
   "cell_type": "code",
   "execution_count": 10,
   "metadata": {},
   "outputs": [],
   "source": [
    "#outlier_indices = []\n",
    "#for att in numerical_attribute_names:\n",
    "#    outlier_indices = find_outliers(data_df, att)\n",
    "#    outlier_indices.extend(outlier_indices)\n",
    "#print(f\"All Outlier Indices: {outlier_indices}\")"
   ]
  },
  {
   "attachments": {},
   "cell_type": "markdown",
   "metadata": {},
   "source": [
    "The oulier data is inconsistent with some of the attributes because they have a majority of 0 which means that the 1st and 3rd quartiles will all be 0 with the weights shifting towards that value.\n",
    "\n",
    "add Suggest changes for the heavy weight on 0s\n",
    "\n",
    "Explain outlers"
   ]
  },
  {
   "attachments": {},
   "cell_type": "markdown",
   "metadata": {
    "tags": []
   },
   "source": [
    "**Discussion:**\n",
    "\n",
    "Fill in...\n"
   ]
  },
  {
   "cell_type": "code",
   "execution_count": null,
   "metadata": {},
   "outputs": [],
   "source": []
  },
  {
   "attachments": {},
   "cell_type": "markdown",
   "metadata": {},
   "source": [
    "---\n",
    "\n",
    "## Section: 2.5 - Explore the relationships among the attributes.\n",
    "\n",
    "- You may include or exclude the class attribute as appropriate.\n",
    "- Use scatter plots, correlation matrices, cross-tabulations, group-wise averages, or other appropriate techniques. Explain and interpret any interesting relationships.\n",
    "- There are three general cases for 2-attribute relationships:\n",
    "  - Categorical vs Categorical\n",
    "  - Categorical vs Numerical\n",
    "  - Numerical vs Numerical\n",
    "\n",
    "---\n"
   ]
  },
  {
   "attachments": {},
   "cell_type": "markdown",
   "metadata": {
    "tags": []
   },
   "source": [
    "**Catergorical Attirbute vs Categorical Attirbute**\n"
   ]
  },
  {
   "attachments": {},
   "cell_type": "markdown",
   "metadata": {},
   "source": [
    "Maybe use a histogram?"
   ]
  },
  {
   "cell_type": "code",
   "execution_count": 11,
   "metadata": {},
   "outputs": [
    {
     "data": {
      "image/png": "[encoded data removed]",
      "text/plain": [
       "<Figure size 900x900 with 3 Axes>"
      ]
     },
     "metadata": {},
     "output_type": "display_data"
    }
   ],
   "source": [
    "# EXAMPLE: Visualize the relationship between two specific categorical variables.\n",
    "from statsmodels.graphics.mosaicplot import mosaic\n",
    "\n",
    "plt.rcParams['font.size'] = 10.0\n",
    "plt.rcParams[\"figure.figsize\"]=(9,9)\n",
    "mosaic(data_df.sort_values(by='is_canceled', ascending=True), ['distribution_channel', 'is_canceled'], title='')\n",
    "plt.show()"
   ]
  },
  {
   "attachments": {},
   "cell_type": "markdown",
   "metadata": {},
   "source": [
    "This plot shows which ution channel has the higher or lower cancellation rate and we can see that the direct channel has a higher cancellation rate than the TA/TO\n"
   ]
  },
  {
   "attachments": {},
   "cell_type": "markdown",
   "metadata": {},
   "source": [
    "**Categorical vs Numerical Attribute**\n"
   ]
  },
  {
   "cell_type": "code",
   "execution_count": 12,
   "metadata": {},
   "outputs": [
    {
     "data": {
      "image/png": "[encoded data removed]",
      "text/plain": [
       "<Figure size 500x500 with 1 Axes>"
      ]
     },
     "metadata": {},
     "output_type": "display_data"
    }
   ],
   "source": [
    "# EXAMPLE: Visualize the relationship between a specific categorical variable and a specific numerical variable.\n",
    "#   (Violin plots work nicely too.)\n",
    "plt.rcParams[\"figure.figsize\"]=(5,5)\n",
    "ax = data_df.boxplot('previous_cancellations', by='is_canceled')\n",
    "ax.get_figure().suptitle(t=\"\")\n",
    "plt.title(\"Box Plot previous_cancellations by is_canceled\")\n",
    "plt.show()"
   ]
  },
  {
   "attachments": {},
   "cell_type": "markdown",
   "metadata": {},
   "source": [
    "We can see in this relation here that poeple with more cancellations have more of a tendency to cancel again for the year we are examining.\n"
   ]
  },
  {
   "cell_type": "code",
   "execution_count": 13,
   "metadata": {},
   "outputs": [],
   "source": [
    "# Visualize the relationship between all pairs of numerical variables, to look for potential relationships.\n",
    "#sns.pairplot(data = data_df[numerical_attribute_names+[class_attribute_name]], hue=class_attribute_name, height=3)\n",
    "#plt.show()"
   ]
  },
  {
   "attachments": {},
   "cell_type": "markdown",
   "metadata": {},
   "source": [
    "Here we can see relationships between each numerical attribute and the class attribute of is_canceled. What we can see is that the largest pattern is when people havd a pattern of cancelling or not cancelling. We can see every attribute and the realtionship it has with the is_cancelled class attribute.\n",
    "On top of this, seeing the relationship between all of the variales help to find patterns that calculations cannot see."
   ]
  },
  {
   "cell_type": "code",
   "execution_count": 14,
   "metadata": {},
   "outputs": [],
   "source": [
    "# Compute ANOVA for a specific categorical and numerical variable pair.\n",
    "# Note: You also can use the t-test if there are only two values for the categorical variable.\n",
    "def anova_test(data_frame, categorical_variable, numerical_variable, alpha):\n",
    "    # See: https://towardsdatascience.com/statistics-in-python-using-anova-for-feature-selection-b4dc876ef4f0\n",
    "    # Calculate the f-value using the statsmodel module. \n",
    "    # You first build the model using the ols() function, and then call the fit() function on the instance of the model.\n",
    "    # Finally, you call the anova_lm() function on the fitted model and specify the type of ANOVA test to perform on it:\n",
    "    #   There are 3 types of ANOVA tests to perform, but their discussion is beyond the scope of this discussion.\n",
    "    # Note: Hypothesis H0 = There is NO significant influence of the categorical variable on the numerical variable.\n",
    "    import statsmodels.api as sm\n",
    "    from statsmodels.formula.api import ols\n",
    "\n",
    "    param_string = numerical_variable + \" ~ \" + categorical_variable\n",
    "    model = ols(param_string, data=data_frame).fit()\n",
    "    result = sm.stats.anova_lm(model, typ=2)\n",
    "    #print(result)\n",
    "\n",
    "    p_value = result.iat[0, 3]\n",
    "    reject_h0 = (p_value < alpha)\n",
    "    return p_value, reject_h0"
   ]
  },
  {
   "cell_type": "code",
   "execution_count": 15,
   "metadata": {},
   "outputs": [
    {
     "name": "stdout",
     "output_type": "stream",
     "text": [
      "   P_Value             Reject_H0        Cat_Attribute        Num_Attribute\n",
      "         0                  True          is_canceled            lead_time\n",
      "8.08757e-09                  True          is_canceled    arrival_date_year\n",
      "0.00487025                  True          is_canceled arrival_date_week_number\n",
      " 0.0350288                  True          is_canceled arrival_date_day_of_month\n",
      "2.37866e-189                  True          is_canceled    is_repeated_guest\n",
      "8.66295e-319                  True          is_canceled previous_cancellations\n",
      "1.50308e-87                  True          is_canceled previous_bookings_not_canceled\n",
      "4.71247e-94                  True          is_canceled               adults\n",
      " 0.0808649                 False          is_canceled             children\n",
      "2.93751e-29                  True          is_canceled               babies\n",
      "         0                  True          is_canceled      booking_changes\n",
      "2.46253e-78                  True          is_canceled days_in_waiting_list\n"
     ]
    }
   ],
   "source": [
    "# Compute ANOVA for the categorical attribute \"species\" and each numerical attribute.\n",
    "# Note: Hypothesis H0 = There is NO significant influence of the categorical attribute on the numerical attribute.\n",
    "alpha = 0.05  # Chosen by the data analyst, based on the business problem.\n",
    "cat_att = \"is_canceled\"\n",
    "\n",
    "print(\"   P_Value             Reject_H0        Cat_Attribute        Num_Attribute\")\n",
    "for num_att in numerical_attribute_names:\n",
    "    p_value, reject_h0 = anova_test(data_df, cat_att, num_att, alpha)\n",
    "    print(\"%10.6g  %20s %20s %20s\" % (p_value, reject_h0, cat_att, num_att))"
   ]
  },
  {
   "attachments": {},
   "cell_type": "markdown",
   "metadata": {},
   "source": [
    "Here we see the p-value relationships between the numerical varaiables and whether or not the booking is cancelled. As we can see, the variables with the strongest relatinoship are the \"is_repeated_guest\" and \"previous_cancellation\" variables.\n"
   ]
  },
  {
   "attachments": {},
   "cell_type": "markdown",
   "metadata": {},
   "source": [
    "**Numerical Attribute vs Numerical Attribute**\n"
   ]
  },
  {
   "cell_type": "code",
   "execution_count": 16,
   "metadata": {},
   "outputs": [
    {
     "data": {
      "text/plain": [
       "<matplotlib.legend.Legend at 0x169b1339a10>"
      ]
     },
     "execution_count": 16,
     "metadata": {},
     "output_type": "execute_result"
    },
    {
     "data": {
      "image/png": "[encoded data removed]",
      "text/plain": [
       "<Figure size 500x500 with 1 Axes>"
      ]
     },
     "metadata": {},
     "output_type": "display_data"
    }
   ],
   "source": [
    "# EXAMPLE: Visualize the relationship between one specific pair of numerical variables, to look for potential relationship.\n",
    "groups = data_df.groupby('is_canceled')\n",
    "for name, group in groups:\n",
    "    plt.plot(group.previous_bookings_not_canceled, group.previous_cancellations, marker='o', linestyle='', markersize=5, label=name)\n",
    "\n",
    "plt.legend()"
   ]
  },
  {
   "attachments": {},
   "cell_type": "markdown",
   "metadata": {},
   "source": [
    "Here we see code about comparing the \"previous_bookings_not_canceled\" and the \"previous_cancellations\". We see an inverse relationship regarding the blue and the orange here which makes sense because the two actions are opposites.\n"
   ]
  },
  {
   "cell_type": "code",
   "execution_count": 17,
   "metadata": {},
   "outputs": [
    {
     "data": {
      "text/plain": [
       "<AxesSubplot: >"
      ]
     },
     "execution_count": 17,
     "metadata": {},
     "output_type": "execute_result"
    },
    {
     "data": {
      "image/png": "[encoded data removed]",
      "text/plain": [
       "<Figure size 1000x1000 with 2 Axes>"
      ]
     },
     "metadata": {},
     "output_type": "display_data"
    }
   ],
   "source": [
    "# Compute all of the (Pearson) *linear* correlations between pairs of numerical variables and display a heatmap.\n",
    "# Note: You also could compute Spearman's Rank correlation (which can capture non-linear relationships).\n",
    "#   See: https://www.statology.org/spearman-correlation-python/\n",
    "\n",
    "cor = data_df[numerical_attribute_names].corr(method='pearson').round(2)\n",
    "plt.figure(figsize=(10,10))\n",
    "sns.heatmap(cor,annot=True, center=0.0, cmap='coolwarm')"
   ]
  },
  {
   "attachments": {},
   "cell_type": "markdown",
   "metadata": {},
   "source": [
    "Here we see the largest positive correlation being a repeated guest and not many previous cancellations which shows they generally will not cancel and the most negative correlation beingthe arrival date week and the year which means that there must have been a national event on that day to cause mass cancellations. On top of this we also see a positive correlatoin in the lead time and the days in the waiting list."
   ]
  },
  {
   "attachments": {},
   "cell_type": "markdown",
   "metadata": {
    "tags": []
   },
   "source": [
    "**Discussion:**\n",
    "\n",
    "Fill in...\n"
   ]
  },
  {
   "cell_type": "code",
   "execution_count": null,
   "metadata": {},
   "outputs": [],
   "source": []
  },
  {
   "attachments": {},
   "cell_type": "markdown",
   "metadata": {},
   "source": [
    "---\n",
    "\n",
    "## Section: 2.6 - Identify and explain any interesting relationships between the class attribute and the other attributes.\n",
    "\n",
    "- You may refer to earlier analyses / visualizations (if you included the class attribute above) or create new ones.\n",
    "\n",
    "---\n"
   ]
  },
  {
   "attachments": {},
   "cell_type": "markdown",
   "metadata": {},
   "source": [
    "The class attribute is is_cancelled. You can see in most of all the plots above but especially in the graph comparing previous cancellations and is canceled. This variable also whether or not if they are a returning guest or not have a large effect on cancellations. On top of this, the p-value chart shows the same conclusion. Most of all the charts shown above show that the largest effectors are the previous_bookings_not_cancelled and the returning_customer.\n"
   ]
  },
  {
   "attachments": {},
   "cell_type": "markdown",
   "metadata": {},
   "source": [
    "More explanation"
   ]
  },
  {
   "attachments": {},
   "cell_type": "markdown",
   "metadata": {
    "tags": []
   },
   "source": [
    "**Discussion:**\n",
    "\n",
    "Fill in...\n"
   ]
  },
  {
   "attachments": {},
   "cell_type": "markdown",
   "metadata": {
    "tags": []
   },
   "source": [
    "---\n",
    "\n",
    "# Section: 3 - Data Preparation\n",
    "\n",
    "In this step, the “final” target dataset is constructed (although nothing is ever final…), based on the insights gleaned in the Data Understanding step.\n",
    "This may include:\n",
    "\n",
    "- Normalizing / standardizing the data.\n",
    "- Handling missing and erroneous data.\n",
    "- Transforming or eliminating attributes.\n",
    "- “Blending” data from multiple sources (with attention to consistency of the various sources).\n",
    "- Deploying the data to storage in suitable formats, data models / structures.\n",
    "\n",
    "**NOTE:** In each of these sections, it is OK to decide to **not** make changes to the dataset, but you **must** explain **why** you made the choice. Recall that the purpose of this step is to produce a clean dataset that is suitable for the intended purposes. So, for example, you might choose to not remove any attributes, but if you have 100 apparently irrelevant attributes, explain why are you keeping them - there may be a good reason.\n",
    "\n",
    "---\n"
   ]
  },
  {
   "attachments": {},
   "cell_type": "markdown",
   "metadata": {
    "tags": []
   },
   "source": [
    "---\n",
    "\n",
    "## Section: 3.1 - Clean the Data\n",
    "\n",
    "- Implement any data cleaning steps previously identified. Please justify.\n",
    "- Show the effects of that cleaning through the use of appropriate statistics and/or visualizations.\n",
    "\n",
    "---\n"
   ]
  },
  {
   "cell_type": "code",
   "execution_count": 18,
   "metadata": {},
   "outputs": [],
   "source": [
    "# Create a copy of the dataset for cleaning\n",
    "clean_data_df = data_df.copy()"
   ]
  },
  {
   "attachments": {},
   "cell_type": "markdown",
   "metadata": {},
   "source": [
    "**Revise the Data**\n"
   ]
  },
  {
   "attachments": {},
   "cell_type": "markdown",
   "metadata": {},
   "source": [
    "I am cleaning the typo with onlin TA to Online TA\n"
   ]
  },
  {
   "cell_type": "code",
   "execution_count": 19,
   "metadata": {},
   "outputs": [],
   "source": [
    "clean_data_df['company'] = clean_data_df['company'].replace(to_replace='Onlin TA', value='Online TA')"
   ]
  },
  {
   "cell_type": "code",
   "execution_count": 20,
   "metadata": {},
   "outputs": [
    {
     "name": "stdout",
     "output_type": "stream",
     "text": [
      "0\n"
     ]
    }
   ],
   "source": [
    "clean_data_df['is_canceled'] = clean_data_df['is_canceled'].fillna(0)\n",
    "print(clean_data_df['is_canceled'].isnull().sum())"
   ]
  },
  {
   "attachments": {},
   "cell_type": "markdown",
   "metadata": {},
   "source": [
    "I am removing the row with a duplicte in it"
   ]
  },
  {
   "cell_type": "code",
   "execution_count": 21,
   "metadata": {},
   "outputs": [],
   "source": [
    "clean_data_df.drop(5,inplace=True)"
   ]
  },
  {
   "attachments": {},
   "cell_type": "markdown",
   "metadata": {
    "tags": []
   },
   "source": [
    "**Discussion:**\n",
    "\n",
    "Fill in...\n"
   ]
  },
  {
   "cell_type": "code",
   "execution_count": null,
   "metadata": {},
   "outputs": [],
   "source": []
  },
  {
   "attachments": {},
   "cell_type": "markdown",
   "metadata": {},
   "source": [
    "---\n",
    "\n",
    "## Section: 3.2 - Select Attributes\n",
    "\n",
    "- Optionally, remove attributes that are unneeded, redundant, etc., for the expected uses.\n",
    "- Which attributes did you decide to remove, if any? Please justify.\n",
    "\n",
    "---\n"
   ]
  },
  {
   "attachments": {},
   "cell_type": "markdown",
   "metadata": {},
   "source": [
    "meal and distribution_channel are the arrributes that I feel are needed to remove. This is because with meals, those do not matter as much about what the guest needs and what can help with cancellations. They are irrelavant. I feel like the distribution and the market segment have the same values in them. This would make the distribution channel redundant and not needed."
   ]
  },
  {
   "attachments": {},
   "cell_type": "markdown",
   "metadata": {
    "tags": []
   },
   "source": [
    "**Discussion:**\n",
    "\n",
    "Fill in...\n"
   ]
  },
  {
   "cell_type": "code",
   "execution_count": null,
   "metadata": {},
   "outputs": [],
   "source": []
  },
  {
   "attachments": {},
   "cell_type": "markdown",
   "metadata": {},
   "source": [
    "---\n",
    "\n",
    "## Section: 3.3 - Create Attributes\n",
    "\n",
    "- Optionally, create new attributes based on the values of other attibutes.\n",
    "- Which new attributes did you decide to create, if any? Please justify.\n",
    "\n",
    "---\n"
   ]
  },
  {
   "attachments": {},
   "cell_type": "markdown",
   "metadata": {
    "tags": []
   },
   "source": [
    "I did not feel the need to add attributes because I felt that the only attribute really needd were the is cancelled and whether or not the guests had a history of cancelling. On top of that the other attributes were useful for finding other patterns like the day they arrived or how many special accomodations they had. If I was to add another attribute it would probably be a weighted number based off of the correlation and patterns found. The most logical one would be a ratio of adults to children and babies which would give a family ratio factor. This would allow for us to see how a family and the ratio would effect trip cancellations and target our audience accordingly."
   ]
  },
  {
   "cell_type": "code",
   "execution_count": 22,
   "metadata": {},
   "outputs": [
    {
     "data": {
      "text/plain": [
       "count    119390.000000\n",
       "mean          1.856571\n",
       "std           0.582187\n",
       "min           0.000000\n",
       "25%           2.000000\n",
       "50%           2.000000\n",
       "75%           2.000000\n",
       "max          55.000000\n",
       "Name: adults, dtype: float64"
      ]
     },
     "execution_count": 22,
     "metadata": {},
     "output_type": "execute_result"
    }
   ],
   "source": [
    "clean_data_df['adults'].describe()"
   ]
  },
  {
   "cell_type": "code",
   "execution_count": 23,
   "metadata": {},
   "outputs": [],
   "source": [
    "clean_data_df['family_ratio'] = clean_data_df['adults'] / clean_data_df['children']"
   ]
  },
  {
   "cell_type": "code",
   "execution_count": 24,
   "metadata": {},
   "outputs": [
    {
     "name": "stderr",
     "output_type": "stream",
     "text": [
      "c:\\Users\\15202\\AppData\\Local\\Programs\\Python\\Python311\\Lib\\site-packages\\numpy\\lib\\function_base.py:4573: RuntimeWarning: invalid value encountered in subtract\n",
      "  diff_b_a = subtract(b, a)\n"
     ]
    },
    {
     "data": {
      "text/plain": [
       "count    119206.0\n",
       "mean          inf\n",
       "std           NaN\n",
       "min           0.0\n",
       "25%           NaN\n",
       "50%           NaN\n",
       "75%           NaN\n",
       "max           inf\n",
       "Name: family_ratio, dtype: float64"
      ]
     },
     "execution_count": 24,
     "metadata": {},
     "output_type": "execute_result"
    }
   ],
   "source": [
    "clean_data_df['family_ratio'].describe()"
   ]
  },
  {
   "attachments": {},
   "cell_type": "markdown",
   "metadata": {},
   "source": [
    "Since most families dont have children or babies this would not help that much but in other cases, I thought that this could help narrow a target audience."
   ]
  },
  {
   "attachments": {},
   "cell_type": "markdown",
   "metadata": {},
   "source": [
    "---\n",
    "\n",
    "## Section: 3.4 - Transform Attributes\n",
    "\n",
    "- Optionally, transform existing attributes (e.g., standardize, normalize, change units of measure, encode) to make them more appropriate for the expected uses.\n",
    "- Which attributes did you decide to transform, if any? Please justify.\n",
    "\n",
    "---\n"
   ]
  },
  {
   "attachments": {},
   "cell_type": "markdown",
   "metadata": {},
   "source": [
    "I did not see the need to change or transform any of the attributes because they are all simple. The only thing I would change would be for the month to be an integer instead of a string. This would be because it would allow for us to not only see dates and weeks but also narrow down to the specific month and understand the numerical analysis on which months have the busiest travelling and find statistical analysis on a month to month basis."
   ]
  },
  {
   "attachments": {},
   "cell_type": "markdown",
   "metadata": {
    "tags": []
   },
   "source": [
    "**Discussion:**\n",
    "\n",
    "Fill in...\n"
   ]
  },
  {
   "cell_type": "code",
   "execution_count": null,
   "metadata": {},
   "outputs": [],
   "source": []
  },
  {
   "attachments": {},
   "cell_type": "markdown",
   "metadata": {},
   "source": [
    "---\n",
    "\n",
    "## Section: 3.5 - Select Records\n",
    "\n",
    "- Optionally, select a subset of the records, via sampling, etc., to decrease the size of the dataset. Please justify.\n",
    "\n",
    "---\n"
   ]
  },
  {
   "attachments": {},
   "cell_type": "markdown",
   "metadata": {
    "tags": []
   },
   "source": [
    "I feel like there are many columns that are not needed in this dataset for some correlation analysis and that the only ones needed should be related to how often the cancel rate is. This would allow for targeted information and a faster and concise understanding of the data. I omitted many columns that had no influence from the data above on the data set and specifically kept columns which I wished to pursue more analysis in."
   ]
  },
  {
   "cell_type": "code",
   "execution_count": 25,
   "metadata": {},
   "outputs": [
    {
     "data": {
      "text/html": [
       "<div>\n",
       "<style scoped>\n",
       "    .dataframe tbody tr th:only-of-type {\n",
       "        vertical-align: middle;\n",
       "    }\n",
       "\n",
       "    .dataframe tbody tr th {\n",
       "        vertical-align: top;\n",
       "    }\n",
       "\n",
       "    .dataframe thead th {\n",
       "        text-align: right;\n",
       "    }\n",
       "</style>\n",
       "<table border=\"1\" class=\"dataframe\">\n",
       "  <thead>\n",
       "    <tr style=\"text-align: right;\">\n",
       "      <th></th>\n",
       "      <th>ROW</th>\n",
       "      <th>hotel</th>\n",
       "      <th>is_canceled</th>\n",
       "      <th>lead_time</th>\n",
       "      <th>arrival_date_year</th>\n",
       "      <th>arrival_date_month</th>\n",
       "      <th>arrival_date_week_number</th>\n",
       "      <th>arrival_date_day_of_month</th>\n",
       "      <th>stays_in_weekend_nights</th>\n",
       "      <th>stays_in_week_nights</th>\n",
       "      <th>adults</th>\n",
       "      <th>children</th>\n",
       "      <th>babies</th>\n",
       "      <th>meal</th>\n",
       "      <th>country</th>\n",
       "      <th>market_segment</th>\n",
       "      <th>is_repeated_guest</th>\n",
       "      <th>previous_cancellations</th>\n",
       "      <th>previous_bookings_not_canceled</th>\n",
       "      <th>booking_changes</th>\n",
       "      <th>company</th>\n",
       "      <th>days_in_waiting_list</th>\n",
       "      <th>customer_type</th>\n",
       "      <th>required_car_parking_spaces</th>\n",
       "      <th>total_of_special_requests</th>\n",
       "      <th>reservation_status</th>\n",
       "      <th>reservation_status_date</th>\n",
       "      <th>family_ratio</th>\n",
       "    </tr>\n",
       "  </thead>\n",
       "  <tbody>\n",
       "    <tr>\n",
       "      <th>0</th>\n",
       "      <td>0</td>\n",
       "      <td>Resort Hotel</td>\n",
       "      <td>0.0</td>\n",
       "      <td>342</td>\n",
       "      <td>2015</td>\n",
       "      <td>July</td>\n",
       "      <td>27</td>\n",
       "      <td>1</td>\n",
       "      <td>0</td>\n",
       "      <td>0</td>\n",
       "      <td>2</td>\n",
       "      <td>0.0</td>\n",
       "      <td>0</td>\n",
       "      <td>BB</td>\n",
       "      <td>PRT</td>\n",
       "      <td>Direct</td>\n",
       "      <td>0</td>\n",
       "      <td>0</td>\n",
       "      <td>0</td>\n",
       "      <td>3</td>\n",
       "      <td>NaN</td>\n",
       "      <td>0</td>\n",
       "      <td>Transient</td>\n",
       "      <td>0</td>\n",
       "      <td>0</td>\n",
       "      <td>Check-Out</td>\n",
       "      <td>7/1/2015</td>\n",
       "      <td>inf</td>\n",
       "    </tr>\n",
       "    <tr>\n",
       "      <th>1</th>\n",
       "      <td>1</td>\n",
       "      <td>Resort Hotel</td>\n",
       "      <td>0.0</td>\n",
       "      <td>737</td>\n",
       "      <td>2015</td>\n",
       "      <td>July</td>\n",
       "      <td>27</td>\n",
       "      <td>1</td>\n",
       "      <td>0</td>\n",
       "      <td>0</td>\n",
       "      <td>2</td>\n",
       "      <td>0.0</td>\n",
       "      <td>0</td>\n",
       "      <td>BB</td>\n",
       "      <td>PRT</td>\n",
       "      <td>Direct</td>\n",
       "      <td>0</td>\n",
       "      <td>0</td>\n",
       "      <td>0</td>\n",
       "      <td>4</td>\n",
       "      <td>NaN</td>\n",
       "      <td>0</td>\n",
       "      <td>Transient</td>\n",
       "      <td>0</td>\n",
       "      <td>0</td>\n",
       "      <td>Check-Out</td>\n",
       "      <td>7/1/2015</td>\n",
       "      <td>inf</td>\n",
       "    </tr>\n",
       "    <tr>\n",
       "      <th>2</th>\n",
       "      <td>2</td>\n",
       "      <td>Resort Hotel</td>\n",
       "      <td>0.0</td>\n",
       "      <td>7</td>\n",
       "      <td>2015</td>\n",
       "      <td>July</td>\n",
       "      <td>27</td>\n",
       "      <td>1</td>\n",
       "      <td>0</td>\n",
       "      <td>1</td>\n",
       "      <td>1</td>\n",
       "      <td>0.0</td>\n",
       "      <td>0</td>\n",
       "      <td>BB</td>\n",
       "      <td>GBR</td>\n",
       "      <td>Direct</td>\n",
       "      <td>0</td>\n",
       "      <td>0</td>\n",
       "      <td>0</td>\n",
       "      <td>0</td>\n",
       "      <td>NaN</td>\n",
       "      <td>0</td>\n",
       "      <td>Transient</td>\n",
       "      <td>0</td>\n",
       "      <td>0</td>\n",
       "      <td>Check-Out</td>\n",
       "      <td>7/2/2015</td>\n",
       "      <td>inf</td>\n",
       "    </tr>\n",
       "    <tr>\n",
       "      <th>3</th>\n",
       "      <td>3</td>\n",
       "      <td>Resort Hotel</td>\n",
       "      <td>0.0</td>\n",
       "      <td>13</td>\n",
       "      <td>2015</td>\n",
       "      <td>July</td>\n",
       "      <td>27</td>\n",
       "      <td>1</td>\n",
       "      <td>0</td>\n",
       "      <td>1</td>\n",
       "      <td>1</td>\n",
       "      <td>0.0</td>\n",
       "      <td>0</td>\n",
       "      <td>BB</td>\n",
       "      <td>GBR</td>\n",
       "      <td>Corporate</td>\n",
       "      <td>0</td>\n",
       "      <td>0</td>\n",
       "      <td>0</td>\n",
       "      <td>0</td>\n",
       "      <td>NaN</td>\n",
       "      <td>0</td>\n",
       "      <td>Transient</td>\n",
       "      <td>0</td>\n",
       "      <td>0</td>\n",
       "      <td>Check-Out</td>\n",
       "      <td>7/2/2015</td>\n",
       "      <td>inf</td>\n",
       "    </tr>\n",
       "    <tr>\n",
       "      <th>4</th>\n",
       "      <td>4</td>\n",
       "      <td>Resort Hotel</td>\n",
       "      <td>0.0</td>\n",
       "      <td>14</td>\n",
       "      <td>2015</td>\n",
       "      <td>July</td>\n",
       "      <td>27</td>\n",
       "      <td>1</td>\n",
       "      <td>0</td>\n",
       "      <td>2</td>\n",
       "      <td>2</td>\n",
       "      <td>0.0</td>\n",
       "      <td>0</td>\n",
       "      <td>BB</td>\n",
       "      <td>GBR</td>\n",
       "      <td>Online TA</td>\n",
       "      <td>0</td>\n",
       "      <td>0</td>\n",
       "      <td>0</td>\n",
       "      <td>0</td>\n",
       "      <td>NaN</td>\n",
       "      <td>0</td>\n",
       "      <td>Transient</td>\n",
       "      <td>0</td>\n",
       "      <td>1</td>\n",
       "      <td>Check-Out</td>\n",
       "      <td>7/3/2015</td>\n",
       "      <td>inf</td>\n",
       "    </tr>\n",
       "    <tr>\n",
       "      <th>...</th>\n",
       "      <td>...</td>\n",
       "      <td>...</td>\n",
       "      <td>...</td>\n",
       "      <td>...</td>\n",
       "      <td>...</td>\n",
       "      <td>...</td>\n",
       "      <td>...</td>\n",
       "      <td>...</td>\n",
       "      <td>...</td>\n",
       "      <td>...</td>\n",
       "      <td>...</td>\n",
       "      <td>...</td>\n",
       "      <td>...</td>\n",
       "      <td>...</td>\n",
       "      <td>...</td>\n",
       "      <td>...</td>\n",
       "      <td>...</td>\n",
       "      <td>...</td>\n",
       "      <td>...</td>\n",
       "      <td>...</td>\n",
       "      <td>...</td>\n",
       "      <td>...</td>\n",
       "      <td>...</td>\n",
       "      <td>...</td>\n",
       "      <td>...</td>\n",
       "      <td>...</td>\n",
       "      <td>...</td>\n",
       "      <td>...</td>\n",
       "    </tr>\n",
       "    <tr>\n",
       "      <th>119386</th>\n",
       "      <td>119385</td>\n",
       "      <td>City Hotel</td>\n",
       "      <td>0.0</td>\n",
       "      <td>23</td>\n",
       "      <td>2017</td>\n",
       "      <td>August</td>\n",
       "      <td>35</td>\n",
       "      <td>30</td>\n",
       "      <td>2</td>\n",
       "      <td>5</td>\n",
       "      <td>2</td>\n",
       "      <td>0.0</td>\n",
       "      <td>0</td>\n",
       "      <td>BB</td>\n",
       "      <td>BEL</td>\n",
       "      <td>Offline TA/TO</td>\n",
       "      <td>0</td>\n",
       "      <td>0</td>\n",
       "      <td>0</td>\n",
       "      <td>0</td>\n",
       "      <td>NaN</td>\n",
       "      <td>0</td>\n",
       "      <td>Transient</td>\n",
       "      <td>0</td>\n",
       "      <td>0</td>\n",
       "      <td>Check-Out</td>\n",
       "      <td>9/6/2017</td>\n",
       "      <td>inf</td>\n",
       "    </tr>\n",
       "    <tr>\n",
       "      <th>119387</th>\n",
       "      <td>119386</td>\n",
       "      <td>City Hotel</td>\n",
       "      <td>0.0</td>\n",
       "      <td>102</td>\n",
       "      <td>2017</td>\n",
       "      <td>August</td>\n",
       "      <td>35</td>\n",
       "      <td>31</td>\n",
       "      <td>2</td>\n",
       "      <td>5</td>\n",
       "      <td>3</td>\n",
       "      <td>0.0</td>\n",
       "      <td>0</td>\n",
       "      <td>BB</td>\n",
       "      <td>FRA</td>\n",
       "      <td>Online TA</td>\n",
       "      <td>0</td>\n",
       "      <td>0</td>\n",
       "      <td>0</td>\n",
       "      <td>0</td>\n",
       "      <td>NaN</td>\n",
       "      <td>0</td>\n",
       "      <td>Transient</td>\n",
       "      <td>0</td>\n",
       "      <td>2</td>\n",
       "      <td>Check-Out</td>\n",
       "      <td>9/7/2017</td>\n",
       "      <td>inf</td>\n",
       "    </tr>\n",
       "    <tr>\n",
       "      <th>119388</th>\n",
       "      <td>119387</td>\n",
       "      <td>City Hotel</td>\n",
       "      <td>0.0</td>\n",
       "      <td>34</td>\n",
       "      <td>2017</td>\n",
       "      <td>August</td>\n",
       "      <td>35</td>\n",
       "      <td>31</td>\n",
       "      <td>2</td>\n",
       "      <td>5</td>\n",
       "      <td>2</td>\n",
       "      <td>0.0</td>\n",
       "      <td>0</td>\n",
       "      <td>BB</td>\n",
       "      <td>DEU</td>\n",
       "      <td>Online TA</td>\n",
       "      <td>0</td>\n",
       "      <td>0</td>\n",
       "      <td>0</td>\n",
       "      <td>0</td>\n",
       "      <td>NaN</td>\n",
       "      <td>0</td>\n",
       "      <td>Transient</td>\n",
       "      <td>0</td>\n",
       "      <td>4</td>\n",
       "      <td>Check-Out</td>\n",
       "      <td>9/7/2017</td>\n",
       "      <td>inf</td>\n",
       "    </tr>\n",
       "    <tr>\n",
       "      <th>119389</th>\n",
       "      <td>119388</td>\n",
       "      <td>City Hotel</td>\n",
       "      <td>0.0</td>\n",
       "      <td>109</td>\n",
       "      <td>2017</td>\n",
       "      <td>August</td>\n",
       "      <td>35</td>\n",
       "      <td>31</td>\n",
       "      <td>2</td>\n",
       "      <td>5</td>\n",
       "      <td>2</td>\n",
       "      <td>0.0</td>\n",
       "      <td>0</td>\n",
       "      <td>BB</td>\n",
       "      <td>GBR</td>\n",
       "      <td>Online TA</td>\n",
       "      <td>0</td>\n",
       "      <td>0</td>\n",
       "      <td>0</td>\n",
       "      <td>0</td>\n",
       "      <td>NaN</td>\n",
       "      <td>0</td>\n",
       "      <td>Transient</td>\n",
       "      <td>0</td>\n",
       "      <td>0</td>\n",
       "      <td>Check-Out</td>\n",
       "      <td>9/7/2017</td>\n",
       "      <td>inf</td>\n",
       "    </tr>\n",
       "    <tr>\n",
       "      <th>119390</th>\n",
       "      <td>119389</td>\n",
       "      <td>City Hotel</td>\n",
       "      <td>0.0</td>\n",
       "      <td>205</td>\n",
       "      <td>2017</td>\n",
       "      <td>August</td>\n",
       "      <td>35</td>\n",
       "      <td>29</td>\n",
       "      <td>2</td>\n",
       "      <td>7</td>\n",
       "      <td>2</td>\n",
       "      <td>0.0</td>\n",
       "      <td>0</td>\n",
       "      <td>HB</td>\n",
       "      <td>DEU</td>\n",
       "      <td>Online TA</td>\n",
       "      <td>0</td>\n",
       "      <td>0</td>\n",
       "      <td>0</td>\n",
       "      <td>0</td>\n",
       "      <td>NaN</td>\n",
       "      <td>0</td>\n",
       "      <td>Transient</td>\n",
       "      <td>0</td>\n",
       "      <td>2</td>\n",
       "      <td>Check-Out</td>\n",
       "      <td>9/7/2017</td>\n",
       "      <td>inf</td>\n",
       "    </tr>\n",
       "  </tbody>\n",
       "</table>\n",
       "<p>119390 rows × 28 columns</p>\n",
       "</div>"
      ],
      "text/plain": [
       "           ROW         hotel  is_canceled  lead_time  arrival_date_year  \\\n",
       "0            0  Resort Hotel          0.0        342               2015   \n",
       "1            1  Resort Hotel          0.0        737               2015   \n",
       "2            2  Resort Hotel          0.0          7               2015   \n",
       "3            3  Resort Hotel          0.0         13               2015   \n",
       "4            4  Resort Hotel          0.0         14               2015   \n",
       "...        ...           ...          ...        ...                ...   \n",
       "119386  119385    City Hotel          0.0         23               2017   \n",
       "119387  119386    City Hotel          0.0        102               2017   \n",
       "119388  119387    City Hotel          0.0         34               2017   \n",
       "119389  119388    City Hotel          0.0        109               2017   \n",
       "119390  119389    City Hotel          0.0        205               2017   \n",
       "\n",
       "       arrival_date_month  arrival_date_week_number  \\\n",
       "0                    July                        27   \n",
       "1                    July                        27   \n",
       "2                    July                        27   \n",
       "3                    July                        27   \n",
       "4                    July                        27   \n",
       "...                   ...                       ...   \n",
       "119386             August                        35   \n",
       "119387             August                        35   \n",
       "119388             August                        35   \n",
       "119389             August                        35   \n",
       "119390             August                        35   \n",
       "\n",
       "        arrival_date_day_of_month  stays_in_weekend_nights  \\\n",
       "0                               1                        0   \n",
       "1                               1                        0   \n",
       "2                               1                        0   \n",
       "3                               1                        0   \n",
       "4                               1                        0   \n",
       "...                           ...                      ...   \n",
       "119386                         30                        2   \n",
       "119387                         31                        2   \n",
       "119388                         31                        2   \n",
       "119389                         31                        2   \n",
       "119390                         29                        2   \n",
       "\n",
       "        stays_in_week_nights  adults  children  babies meal country  \\\n",
       "0                          0       2       0.0       0   BB     PRT   \n",
       "1                          0       2       0.0       0   BB     PRT   \n",
       "2                          1       1       0.0       0   BB     GBR   \n",
       "3                          1       1       0.0       0   BB     GBR   \n",
       "4                          2       2       0.0       0   BB     GBR   \n",
       "...                      ...     ...       ...     ...  ...     ...   \n",
       "119386                     5       2       0.0       0   BB     BEL   \n",
       "119387                     5       3       0.0       0   BB     FRA   \n",
       "119388                     5       2       0.0       0   BB     DEU   \n",
       "119389                     5       2       0.0       0   BB     GBR   \n",
       "119390                     7       2       0.0       0   HB     DEU   \n",
       "\n",
       "       market_segment  is_repeated_guest  previous_cancellations  \\\n",
       "0              Direct                  0                       0   \n",
       "1              Direct                  0                       0   \n",
       "2              Direct                  0                       0   \n",
       "3           Corporate                  0                       0   \n",
       "4           Online TA                  0                       0   \n",
       "...               ...                ...                     ...   \n",
       "119386  Offline TA/TO                  0                       0   \n",
       "119387      Online TA                  0                       0   \n",
       "119388      Online TA                  0                       0   \n",
       "119389      Online TA                  0                       0   \n",
       "119390      Online TA                  0                       0   \n",
       "\n",
       "        previous_bookings_not_canceled  booking_changes  company  \\\n",
       "0                                    0                3      NaN   \n",
       "1                                    0                4      NaN   \n",
       "2                                    0                0      NaN   \n",
       "3                                    0                0      NaN   \n",
       "4                                    0                0      NaN   \n",
       "...                                ...              ...      ...   \n",
       "119386                               0                0      NaN   \n",
       "119387                               0                0      NaN   \n",
       "119388                               0                0      NaN   \n",
       "119389                               0                0      NaN   \n",
       "119390                               0                0      NaN   \n",
       "\n",
       "        days_in_waiting_list customer_type  required_car_parking_spaces  \\\n",
       "0                          0     Transient                            0   \n",
       "1                          0     Transient                            0   \n",
       "2                          0     Transient                            0   \n",
       "3                          0     Transient                            0   \n",
       "4                          0     Transient                            0   \n",
       "...                      ...           ...                          ...   \n",
       "119386                     0     Transient                            0   \n",
       "119387                     0     Transient                            0   \n",
       "119388                     0     Transient                            0   \n",
       "119389                     0     Transient                            0   \n",
       "119390                     0     Transient                            0   \n",
       "\n",
       "        total_of_special_requests reservation_status reservation_status_date  \\\n",
       "0                               0          Check-Out                7/1/2015   \n",
       "1                               0          Check-Out                7/1/2015   \n",
       "2                               0          Check-Out                7/2/2015   \n",
       "3                               0          Check-Out                7/2/2015   \n",
       "4                               1          Check-Out                7/3/2015   \n",
       "...                           ...                ...                     ...   \n",
       "119386                          0          Check-Out                9/6/2017   \n",
       "119387                          2          Check-Out                9/7/2017   \n",
       "119388                          4          Check-Out                9/7/2017   \n",
       "119389                          0          Check-Out                9/7/2017   \n",
       "119390                          2          Check-Out                9/7/2017   \n",
       "\n",
       "        family_ratio  \n",
       "0                inf  \n",
       "1                inf  \n",
       "2                inf  \n",
       "3                inf  \n",
       "4                inf  \n",
       "...              ...  \n",
       "119386           inf  \n",
       "119387           inf  \n",
       "119388           inf  \n",
       "119389           inf  \n",
       "119390           inf  \n",
       "\n",
       "[119390 rows x 28 columns]"
      ]
     },
     "execution_count": 25,
     "metadata": {},
     "output_type": "execute_result"
    }
   ],
   "source": [
    "clean_data_df.drop(['distribution_channel', 'assigned_room_type','reserved_room_type', 'deposit_type', 'agent', 'adr'], axis = 1)"
   ]
  },
  {
   "attachments": {},
   "cell_type": "markdown",
   "metadata": {},
   "source": [
    "On top of this, I changed the data to have 100 random values which allows me to take a smaller sample of the dataset to take a small screenshot of parts of my data."
   ]
  },
  {
   "cell_type": "code",
   "execution_count": 26,
   "metadata": {},
   "outputs": [
    {
     "data": {
      "text/html": [
       "<div>\n",
       "<style scoped>\n",
       "    .dataframe tbody tr th:only-of-type {\n",
       "        vertical-align: middle;\n",
       "    }\n",
       "\n",
       "    .dataframe tbody tr th {\n",
       "        vertical-align: top;\n",
       "    }\n",
       "\n",
       "    .dataframe thead th {\n",
       "        text-align: right;\n",
       "    }\n",
       "</style>\n",
       "<table border=\"1\" class=\"dataframe\">\n",
       "  <thead>\n",
       "    <tr style=\"text-align: right;\">\n",
       "      <th></th>\n",
       "      <th>ROW</th>\n",
       "      <th>hotel</th>\n",
       "      <th>is_canceled</th>\n",
       "      <th>lead_time</th>\n",
       "      <th>arrival_date_year</th>\n",
       "      <th>arrival_date_month</th>\n",
       "      <th>arrival_date_week_number</th>\n",
       "      <th>arrival_date_day_of_month</th>\n",
       "      <th>stays_in_weekend_nights</th>\n",
       "      <th>stays_in_week_nights</th>\n",
       "      <th>adults</th>\n",
       "      <th>children</th>\n",
       "      <th>babies</th>\n",
       "      <th>meal</th>\n",
       "      <th>country</th>\n",
       "      <th>market_segment</th>\n",
       "      <th>distribution_channel</th>\n",
       "      <th>is_repeated_guest</th>\n",
       "      <th>previous_cancellations</th>\n",
       "      <th>previous_bookings_not_canceled</th>\n",
       "      <th>reserved_room_type</th>\n",
       "      <th>assigned_room_type</th>\n",
       "      <th>booking_changes</th>\n",
       "      <th>deposit_type</th>\n",
       "      <th>agent</th>\n",
       "      <th>company</th>\n",
       "      <th>days_in_waiting_list</th>\n",
       "      <th>customer_type</th>\n",
       "      <th>adr</th>\n",
       "      <th>required_car_parking_spaces</th>\n",
       "      <th>total_of_special_requests</th>\n",
       "      <th>reservation_status</th>\n",
       "      <th>reservation_status_date</th>\n",
       "      <th>family_ratio</th>\n",
       "    </tr>\n",
       "  </thead>\n",
       "  <tbody>\n",
       "    <tr>\n",
       "      <th>6559</th>\n",
       "      <td>6558</td>\n",
       "      <td>Resort Hotel</td>\n",
       "      <td>0.0</td>\n",
       "      <td>273</td>\n",
       "      <td>2016</td>\n",
       "      <td>June</td>\n",
       "      <td>25</td>\n",
       "      <td>17</td>\n",
       "      <td>2</td>\n",
       "      <td>5</td>\n",
       "      <td>2</td>\n",
       "      <td>0.0</td>\n",
       "      <td>0</td>\n",
       "      <td>BB</td>\n",
       "      <td>GBR</td>\n",
       "      <td>Direct</td>\n",
       "      <td>Direct</td>\n",
       "      <td>0</td>\n",
       "      <td>0</td>\n",
       "      <td>0</td>\n",
       "      <td>D</td>\n",
       "      <td>D</td>\n",
       "      <td>0</td>\n",
       "      <td>No Deposit</td>\n",
       "      <td>250.0</td>\n",
       "      <td>NaN</td>\n",
       "      <td>0</td>\n",
       "      <td>Transient-Party</td>\n",
       "      <td>77.64</td>\n",
       "      <td>0</td>\n",
       "      <td>1</td>\n",
       "      <td>Check-Out</td>\n",
       "      <td>6/24/2016</td>\n",
       "      <td>inf</td>\n",
       "    </tr>\n",
       "    <tr>\n",
       "      <th>63108</th>\n",
       "      <td>63107</td>\n",
       "      <td>City Hotel</td>\n",
       "      <td>1.0</td>\n",
       "      <td>26</td>\n",
       "      <td>2017</td>\n",
       "      <td>February</td>\n",
       "      <td>5</td>\n",
       "      <td>1</td>\n",
       "      <td>0</td>\n",
       "      <td>2</td>\n",
       "      <td>2</td>\n",
       "      <td>0.0</td>\n",
       "      <td>0</td>\n",
       "      <td>SC</td>\n",
       "      <td>FRA</td>\n",
       "      <td>Online TA</td>\n",
       "      <td>TA/TO</td>\n",
       "      <td>0</td>\n",
       "      <td>0</td>\n",
       "      <td>0</td>\n",
       "      <td>A</td>\n",
       "      <td>A</td>\n",
       "      <td>0</td>\n",
       "      <td>No Deposit</td>\n",
       "      <td>9.0</td>\n",
       "      <td>NaN</td>\n",
       "      <td>0</td>\n",
       "      <td>Transient</td>\n",
       "      <td>80.00</td>\n",
       "      <td>0</td>\n",
       "      <td>1</td>\n",
       "      <td>Canceled</td>\n",
       "      <td>1/12/2017</td>\n",
       "      <td>inf</td>\n",
       "    </tr>\n",
       "    <tr>\n",
       "      <th>6013</th>\n",
       "      <td>6012</td>\n",
       "      <td>Resort Hotel</td>\n",
       "      <td>0.0</td>\n",
       "      <td>217</td>\n",
       "      <td>2016</td>\n",
       "      <td>May</td>\n",
       "      <td>21</td>\n",
       "      <td>20</td>\n",
       "      <td>2</td>\n",
       "      <td>6</td>\n",
       "      <td>2</td>\n",
       "      <td>0.0</td>\n",
       "      <td>0</td>\n",
       "      <td>HB</td>\n",
       "      <td>GBR</td>\n",
       "      <td>Offline TA/TO</td>\n",
       "      <td>TA/TO</td>\n",
       "      <td>0</td>\n",
       "      <td>0</td>\n",
       "      <td>0</td>\n",
       "      <td>E</td>\n",
       "      <td>E</td>\n",
       "      <td>0</td>\n",
       "      <td>No Deposit</td>\n",
       "      <td>40.0</td>\n",
       "      <td>NaN</td>\n",
       "      <td>0</td>\n",
       "      <td>Transient</td>\n",
       "      <td>84.96</td>\n",
       "      <td>0</td>\n",
       "      <td>0</td>\n",
       "      <td>Check-Out</td>\n",
       "      <td>5/28/2016</td>\n",
       "      <td>inf</td>\n",
       "    </tr>\n",
       "    <tr>\n",
       "      <th>60961</th>\n",
       "      <td>60960</td>\n",
       "      <td>City Hotel</td>\n",
       "      <td>1.0</td>\n",
       "      <td>8</td>\n",
       "      <td>2016</td>\n",
       "      <td>November</td>\n",
       "      <td>49</td>\n",
       "      <td>27</td>\n",
       "      <td>2</td>\n",
       "      <td>3</td>\n",
       "      <td>2</td>\n",
       "      <td>0.0</td>\n",
       "      <td>0</td>\n",
       "      <td>BB</td>\n",
       "      <td>PRT</td>\n",
       "      <td>Online TA</td>\n",
       "      <td>TA/TO</td>\n",
       "      <td>0</td>\n",
       "      <td>0</td>\n",
       "      <td>0</td>\n",
       "      <td>A</td>\n",
       "      <td>A</td>\n",
       "      <td>0</td>\n",
       "      <td>No Deposit</td>\n",
       "      <td>7.0</td>\n",
       "      <td>NaN</td>\n",
       "      <td>0</td>\n",
       "      <td>Transient</td>\n",
       "      <td>65.54</td>\n",
       "      <td>0</td>\n",
       "      <td>0</td>\n",
       "      <td>Canceled</td>\n",
       "      <td>11/24/2016</td>\n",
       "      <td>inf</td>\n",
       "    </tr>\n",
       "    <tr>\n",
       "      <th>12896</th>\n",
       "      <td>12895</td>\n",
       "      <td>Resort Hotel</td>\n",
       "      <td>1.0</td>\n",
       "      <td>159</td>\n",
       "      <td>2017</td>\n",
       "      <td>July</td>\n",
       "      <td>29</td>\n",
       "      <td>22</td>\n",
       "      <td>2</td>\n",
       "      <td>5</td>\n",
       "      <td>2</td>\n",
       "      <td>0.0</td>\n",
       "      <td>0</td>\n",
       "      <td>HB</td>\n",
       "      <td>ESP</td>\n",
       "      <td>Online TA</td>\n",
       "      <td>TA/TO</td>\n",
       "      <td>0</td>\n",
       "      <td>0</td>\n",
       "      <td>0</td>\n",
       "      <td>D</td>\n",
       "      <td>D</td>\n",
       "      <td>0</td>\n",
       "      <td>No Deposit</td>\n",
       "      <td>240.0</td>\n",
       "      <td>NaN</td>\n",
       "      <td>0</td>\n",
       "      <td>Transient</td>\n",
       "      <td>212.00</td>\n",
       "      <td>0</td>\n",
       "      <td>0</td>\n",
       "      <td>Canceled</td>\n",
       "      <td>2/16/2017</td>\n",
       "      <td>inf</td>\n",
       "    </tr>\n",
       "    <tr>\n",
       "      <th>...</th>\n",
       "      <td>...</td>\n",
       "      <td>...</td>\n",
       "      <td>...</td>\n",
       "      <td>...</td>\n",
       "      <td>...</td>\n",
       "      <td>...</td>\n",
       "      <td>...</td>\n",
       "      <td>...</td>\n",
       "      <td>...</td>\n",
       "      <td>...</td>\n",
       "      <td>...</td>\n",
       "      <td>...</td>\n",
       "      <td>...</td>\n",
       "      <td>...</td>\n",
       "      <td>...</td>\n",
       "      <td>...</td>\n",
       "      <td>...</td>\n",
       "      <td>...</td>\n",
       "      <td>...</td>\n",
       "      <td>...</td>\n",
       "      <td>...</td>\n",
       "      <td>...</td>\n",
       "      <td>...</td>\n",
       "      <td>...</td>\n",
       "      <td>...</td>\n",
       "      <td>...</td>\n",
       "      <td>...</td>\n",
       "      <td>...</td>\n",
       "      <td>...</td>\n",
       "      <td>...</td>\n",
       "      <td>...</td>\n",
       "      <td>...</td>\n",
       "      <td>...</td>\n",
       "      <td>...</td>\n",
       "    </tr>\n",
       "    <tr>\n",
       "      <th>50127</th>\n",
       "      <td>50126</td>\n",
       "      <td>City Hotel</td>\n",
       "      <td>1.0</td>\n",
       "      <td>1</td>\n",
       "      <td>2016</td>\n",
       "      <td>April</td>\n",
       "      <td>18</td>\n",
       "      <td>24</td>\n",
       "      <td>1</td>\n",
       "      <td>0</td>\n",
       "      <td>2</td>\n",
       "      <td>1.0</td>\n",
       "      <td>0</td>\n",
       "      <td>BB</td>\n",
       "      <td>PRT</td>\n",
       "      <td>Online TA</td>\n",
       "      <td>TA/TO</td>\n",
       "      <td>0</td>\n",
       "      <td>0</td>\n",
       "      <td>0</td>\n",
       "      <td>A</td>\n",
       "      <td>A</td>\n",
       "      <td>0</td>\n",
       "      <td>No Deposit</td>\n",
       "      <td>9.0</td>\n",
       "      <td>NaN</td>\n",
       "      <td>0</td>\n",
       "      <td>Transient</td>\n",
       "      <td>149.00</td>\n",
       "      <td>0</td>\n",
       "      <td>0</td>\n",
       "      <td>Canceled</td>\n",
       "      <td>4/23/2016</td>\n",
       "      <td>2.0</td>\n",
       "    </tr>\n",
       "    <tr>\n",
       "      <th>88851</th>\n",
       "      <td>88850</td>\n",
       "      <td>City Hotel</td>\n",
       "      <td>0.0</td>\n",
       "      <td>30</td>\n",
       "      <td>2016</td>\n",
       "      <td>May</td>\n",
       "      <td>20</td>\n",
       "      <td>11</td>\n",
       "      <td>0</td>\n",
       "      <td>2</td>\n",
       "      <td>2</td>\n",
       "      <td>0.0</td>\n",
       "      <td>0</td>\n",
       "      <td>SC</td>\n",
       "      <td>ESP</td>\n",
       "      <td>Online TA</td>\n",
       "      <td>TA/TO</td>\n",
       "      <td>0</td>\n",
       "      <td>0</td>\n",
       "      <td>0</td>\n",
       "      <td>A</td>\n",
       "      <td>A</td>\n",
       "      <td>0</td>\n",
       "      <td>No Deposit</td>\n",
       "      <td>9.0</td>\n",
       "      <td>NaN</td>\n",
       "      <td>0</td>\n",
       "      <td>Transient</td>\n",
       "      <td>116.10</td>\n",
       "      <td>0</td>\n",
       "      <td>1</td>\n",
       "      <td>Check-Out</td>\n",
       "      <td>5/13/2016</td>\n",
       "      <td>inf</td>\n",
       "    </tr>\n",
       "    <tr>\n",
       "      <th>91736</th>\n",
       "      <td>91735</td>\n",
       "      <td>City Hotel</td>\n",
       "      <td>0.0</td>\n",
       "      <td>265</td>\n",
       "      <td>2016</td>\n",
       "      <td>June</td>\n",
       "      <td>26</td>\n",
       "      <td>24</td>\n",
       "      <td>0</td>\n",
       "      <td>2</td>\n",
       "      <td>2</td>\n",
       "      <td>0.0</td>\n",
       "      <td>0</td>\n",
       "      <td>HB</td>\n",
       "      <td>DEU</td>\n",
       "      <td>Offline TA/TO</td>\n",
       "      <td>TA/TO</td>\n",
       "      <td>0</td>\n",
       "      <td>0</td>\n",
       "      <td>0</td>\n",
       "      <td>A</td>\n",
       "      <td>D</td>\n",
       "      <td>0</td>\n",
       "      <td>No Deposit</td>\n",
       "      <td>6.0</td>\n",
       "      <td>NaN</td>\n",
       "      <td>0</td>\n",
       "      <td>Transient-Party</td>\n",
       "      <td>115.00</td>\n",
       "      <td>0</td>\n",
       "      <td>1</td>\n",
       "      <td>Check-Out</td>\n",
       "      <td>6/26/2016</td>\n",
       "      <td>inf</td>\n",
       "    </tr>\n",
       "    <tr>\n",
       "      <th>70072</th>\n",
       "      <td>70071</td>\n",
       "      <td>City Hotel</td>\n",
       "      <td>1.0</td>\n",
       "      <td>66</td>\n",
       "      <td>2017</td>\n",
       "      <td>June</td>\n",
       "      <td>23</td>\n",
       "      <td>9</td>\n",
       "      <td>1</td>\n",
       "      <td>2</td>\n",
       "      <td>2</td>\n",
       "      <td>0.0</td>\n",
       "      <td>0</td>\n",
       "      <td>SC</td>\n",
       "      <td>IRL</td>\n",
       "      <td>Online TA</td>\n",
       "      <td>TA/TO</td>\n",
       "      <td>0</td>\n",
       "      <td>0</td>\n",
       "      <td>0</td>\n",
       "      <td>A</td>\n",
       "      <td>A</td>\n",
       "      <td>0</td>\n",
       "      <td>No Deposit</td>\n",
       "      <td>9.0</td>\n",
       "      <td>NaN</td>\n",
       "      <td>0</td>\n",
       "      <td>Transient</td>\n",
       "      <td>140.00</td>\n",
       "      <td>0</td>\n",
       "      <td>1</td>\n",
       "      <td>Canceled</td>\n",
       "      <td>4/7/2017</td>\n",
       "      <td>inf</td>\n",
       "    </tr>\n",
       "    <tr>\n",
       "      <th>17173</th>\n",
       "      <td>17172</td>\n",
       "      <td>Resort Hotel</td>\n",
       "      <td>0.0</td>\n",
       "      <td>75</td>\n",
       "      <td>2015</td>\n",
       "      <td>September</td>\n",
       "      <td>39</td>\n",
       "      <td>22</td>\n",
       "      <td>2</td>\n",
       "      <td>5</td>\n",
       "      <td>2</td>\n",
       "      <td>0.0</td>\n",
       "      <td>0</td>\n",
       "      <td>BB</td>\n",
       "      <td>IRL</td>\n",
       "      <td>Online TA</td>\n",
       "      <td>TA/TO</td>\n",
       "      <td>0</td>\n",
       "      <td>0</td>\n",
       "      <td>0</td>\n",
       "      <td>A</td>\n",
       "      <td>A</td>\n",
       "      <td>0</td>\n",
       "      <td>No Deposit</td>\n",
       "      <td>240.0</td>\n",
       "      <td>NaN</td>\n",
       "      <td>0</td>\n",
       "      <td>Transient</td>\n",
       "      <td>90.71</td>\n",
       "      <td>1</td>\n",
       "      <td>2</td>\n",
       "      <td>Check-Out</td>\n",
       "      <td>9/29/2015</td>\n",
       "      <td>inf</td>\n",
       "    </tr>\n",
       "  </tbody>\n",
       "</table>\n",
       "<p>100 rows × 34 columns</p>\n",
       "</div>"
      ],
      "text/plain": [
       "         ROW         hotel  is_canceled  lead_time  arrival_date_year  \\\n",
       "6559    6558  Resort Hotel          0.0        273               2016   \n",
       "63108  63107    City Hotel          1.0         26               2017   \n",
       "6013    6012  Resort Hotel          0.0        217               2016   \n",
       "60961  60960    City Hotel          1.0          8               2016   \n",
       "12896  12895  Resort Hotel          1.0        159               2017   \n",
       "...      ...           ...          ...        ...                ...   \n",
       "50127  50126    City Hotel          1.0          1               2016   \n",
       "88851  88850    City Hotel          0.0         30               2016   \n",
       "91736  91735    City Hotel          0.0        265               2016   \n",
       "70072  70071    City Hotel          1.0         66               2017   \n",
       "17173  17172  Resort Hotel          0.0         75               2015   \n",
       "\n",
       "      arrival_date_month  arrival_date_week_number  arrival_date_day_of_month  \\\n",
       "6559                June                        25                         17   \n",
       "63108           February                         5                          1   \n",
       "6013                 May                        21                         20   \n",
       "60961           November                        49                         27   \n",
       "12896               July                        29                         22   \n",
       "...                  ...                       ...                        ...   \n",
       "50127              April                        18                         24   \n",
       "88851                May                        20                         11   \n",
       "91736               June                        26                         24   \n",
       "70072               June                        23                          9   \n",
       "17173          September                        39                         22   \n",
       "\n",
       "       stays_in_weekend_nights  stays_in_week_nights  adults  children  \\\n",
       "6559                         2                     5       2       0.0   \n",
       "63108                        0                     2       2       0.0   \n",
       "6013                         2                     6       2       0.0   \n",
       "60961                        2                     3       2       0.0   \n",
       "12896                        2                     5       2       0.0   \n",
       "...                        ...                   ...     ...       ...   \n",
       "50127                        1                     0       2       1.0   \n",
       "88851                        0                     2       2       0.0   \n",
       "91736                        0                     2       2       0.0   \n",
       "70072                        1                     2       2       0.0   \n",
       "17173                        2                     5       2       0.0   \n",
       "\n",
       "       babies meal country market_segment distribution_channel  \\\n",
       "6559        0   BB     GBR         Direct               Direct   \n",
       "63108       0   SC     FRA      Online TA                TA/TO   \n",
       "6013        0   HB     GBR  Offline TA/TO                TA/TO   \n",
       "60961       0   BB     PRT      Online TA                TA/TO   \n",
       "12896       0   HB     ESP      Online TA                TA/TO   \n",
       "...       ...  ...     ...            ...                  ...   \n",
       "50127       0   BB     PRT      Online TA                TA/TO   \n",
       "88851       0   SC     ESP      Online TA                TA/TO   \n",
       "91736       0   HB     DEU  Offline TA/TO                TA/TO   \n",
       "70072       0   SC     IRL      Online TA                TA/TO   \n",
       "17173       0   BB     IRL      Online TA                TA/TO   \n",
       "\n",
       "       is_repeated_guest  previous_cancellations  \\\n",
       "6559                   0                       0   \n",
       "63108                  0                       0   \n",
       "6013                   0                       0   \n",
       "60961                  0                       0   \n",
       "12896                  0                       0   \n",
       "...                  ...                     ...   \n",
       "50127                  0                       0   \n",
       "88851                  0                       0   \n",
       "91736                  0                       0   \n",
       "70072                  0                       0   \n",
       "17173                  0                       0   \n",
       "\n",
       "       previous_bookings_not_canceled reserved_room_type assigned_room_type  \\\n",
       "6559                                0                  D                  D   \n",
       "63108                               0                  A                  A   \n",
       "6013                                0                  E                  E   \n",
       "60961                               0                  A                  A   \n",
       "12896                               0                  D                  D   \n",
       "...                               ...                ...                ...   \n",
       "50127                               0                  A                  A   \n",
       "88851                               0                  A                  A   \n",
       "91736                               0                  A                  D   \n",
       "70072                               0                  A                  A   \n",
       "17173                               0                  A                  A   \n",
       "\n",
       "       booking_changes deposit_type  agent  company  days_in_waiting_list  \\\n",
       "6559                 0   No Deposit  250.0      NaN                     0   \n",
       "63108                0   No Deposit    9.0      NaN                     0   \n",
       "6013                 0   No Deposit   40.0      NaN                     0   \n",
       "60961                0   No Deposit    7.0      NaN                     0   \n",
       "12896                0   No Deposit  240.0      NaN                     0   \n",
       "...                ...          ...    ...      ...                   ...   \n",
       "50127                0   No Deposit    9.0      NaN                     0   \n",
       "88851                0   No Deposit    9.0      NaN                     0   \n",
       "91736                0   No Deposit    6.0      NaN                     0   \n",
       "70072                0   No Deposit    9.0      NaN                     0   \n",
       "17173                0   No Deposit  240.0      NaN                     0   \n",
       "\n",
       "         customer_type     adr  required_car_parking_spaces  \\\n",
       "6559   Transient-Party   77.64                            0   \n",
       "63108        Transient   80.00                            0   \n",
       "6013         Transient   84.96                            0   \n",
       "60961        Transient   65.54                            0   \n",
       "12896        Transient  212.00                            0   \n",
       "...                ...     ...                          ...   \n",
       "50127        Transient  149.00                            0   \n",
       "88851        Transient  116.10                            0   \n",
       "91736  Transient-Party  115.00                            0   \n",
       "70072        Transient  140.00                            0   \n",
       "17173        Transient   90.71                            1   \n",
       "\n",
       "       total_of_special_requests reservation_status reservation_status_date  \\\n",
       "6559                           1          Check-Out               6/24/2016   \n",
       "63108                          1           Canceled               1/12/2017   \n",
       "6013                           0          Check-Out               5/28/2016   \n",
       "60961                          0           Canceled              11/24/2016   \n",
       "12896                          0           Canceled               2/16/2017   \n",
       "...                          ...                ...                     ...   \n",
       "50127                          0           Canceled               4/23/2016   \n",
       "88851                          1          Check-Out               5/13/2016   \n",
       "91736                          1          Check-Out               6/26/2016   \n",
       "70072                          1           Canceled                4/7/2017   \n",
       "17173                          2          Check-Out               9/29/2015   \n",
       "\n",
       "       family_ratio  \n",
       "6559            inf  \n",
       "63108           inf  \n",
       "6013            inf  \n",
       "60961           inf  \n",
       "12896           inf  \n",
       "...             ...  \n",
       "50127           2.0  \n",
       "88851           inf  \n",
       "91736           inf  \n",
       "70072           inf  \n",
       "17173           inf  \n",
       "\n",
       "[100 rows x 34 columns]"
      ]
     },
     "execution_count": 26,
     "metadata": {},
     "output_type": "execute_result"
    }
   ],
   "source": [
    "clean_data_df.sample(n=100, replace=True, random_state=45)"
   ]
  },
  {
   "attachments": {},
   "cell_type": "markdown",
   "metadata": {
    "tags": []
   },
   "source": [
    "**Discussion:**\n",
    "\n",
    "Fill in...\n"
   ]
  },
  {
   "cell_type": "code",
   "execution_count": null,
   "metadata": {},
   "outputs": [],
   "source": []
  },
  {
   "attachments": {},
   "cell_type": "markdown",
   "metadata": {},
   "source": [
    "---\n",
    "\n",
    "## Section: 3.6 - Other Data Preparation\n",
    "\n",
    "- Optionally, perform other preparation steps (e.g., to optimize storage, retrieval, etc.). Please justify.\n",
    "\n",
    "---\n"
   ]
  },
  {
   "cell_type": "markdown",
   "metadata": {},
   "source": [
    "I do not feel there are other steps needed here."
   ]
  },
  {
   "attachments": {},
   "cell_type": "markdown",
   "metadata": {
    "tags": []
   },
   "source": [
    "---\n",
    "\n",
    "# Section: 4 - Modeling\n",
    "\n",
    "In this step, the dataset is analyzed and used to create models and/or answer questions relevant to the business. This may include:\n",
    "\n",
    "- Developing statistical models for describing or predicting business situations.\n",
    "- Training data mining (e.g., machine learning) algorithms for classification, clustering, association analysis, outlier detection, and other uses.\n",
    "\n",
    "NOTE: This step is tightly coupled and iterative with the Data Preparation and Evaluation steps.\n",
    "\n",
    "---\n"
   ]
  },
  {
   "attachments": {},
   "cell_type": "markdown",
   "metadata": {},
   "source": [
    "**Logistic Regression**"
   ]
  },
  {
   "attachments": {},
   "cell_type": "markdown",
   "metadata": {},
   "source": [
    "I will be taking a logistic regression including the data from is_repeated_guest, previous_cancellations, previous_bookings_not_cancelled, and days_on_waiting_list. I use a logistic regression model because this model will see if it can help predict if a customer will be cancelling or not and we will see this in the final stats with accuracy and precision. "
   ]
  },
  {
   "cell_type": "code",
   "execution_count": 27,
   "metadata": {},
   "outputs": [
    {
     "name": "stdout",
     "output_type": "stream",
     "text": [
      "0\n"
     ]
    }
   ],
   "source": [
    "features = ['is_repeated_guest','previous_cancellations','previous_bookings_not_canceled','days_in_waiting_list']\n",
    "\n",
    "X = clean_data_df[features]\n",
    "y = clean_data_df['is_canceled']\n",
    "print(y.isnull().sum())\n"
   ]
  },
  {
   "attachments": {},
   "cell_type": "markdown",
   "metadata": {},
   "source": [
    "This is where I split my data to be 75% used for model training and 25% of the data given will be used for model testing."
   ]
  },
  {
   "cell_type": "code",
   "execution_count": 28,
   "metadata": {},
   "outputs": [],
   "source": [
    "from sklearn.model_selection import train_test_split\n",
    "\n",
    "X_train, X_test, y_train, y_test = train_test_split(X, y, test_size=0.25, random_state=16)"
   ]
  },
  {
   "cell_type": "code",
   "execution_count": 29,
   "metadata": {},
   "outputs": [],
   "source": [
    "# import the class\n",
    "from sklearn.linear_model import LogisticRegression\n",
    "\n",
    "# instantiate the model (using the default parameters)\n",
    "logreg = LogisticRegression(random_state=16)\n",
    "\n",
    "# fit the model with data\n",
    "logreg.fit(X_train, y_train)\n",
    "\n",
    "y_pred = logreg.predict(X_test)"
   ]
  },
  {
   "cell_type": "code",
   "execution_count": 30,
   "metadata": {},
   "outputs": [
    {
     "ename": "NameError",
     "evalue": "name 'confusion_matrix' is not defined",
     "output_type": "error",
     "traceback": [
      "\u001b[1;31m---------------------------------------------------------------------------\u001b[0m",
      "\u001b[1;31mNameError\u001b[0m                                 Traceback (most recent call last)",
      "Cell \u001b[1;32mIn[30], line 1\u001b[0m\n\u001b[1;32m----> 1\u001b[0m logreg \u001b[39m=\u001b[39m confusion_matrix(y_test, y_pred)\n\u001b[0;32m      2\u001b[0m \u001b[39mprint\u001b[39m(logreg)\n\u001b[0;32m      3\u001b[0m rf_accuracy \u001b[39m=\u001b[39m accuracy_score(y_test, y_pred)\u001b[39m*\u001b[39m\u001b[39m100\u001b[39m\n",
      "\u001b[1;31mNameError\u001b[0m: name 'confusion_matrix' is not defined"
     ]
    }
   ],
   "source": [
    "logreg = confusion_matrix(y_test, y_pred)\n",
    "print(logreg)\n",
    "rf_accuracy = accuracy_score(y_test, y_pred)*100\n",
    "print('Accuracy of our model is equal ' + str(round(rf_accuracy, 2)) + ' %.')"
   ]
  },
  {
   "attachments": {},
   "cell_type": "markdown",
   "metadata": {},
   "source": [
    "Here the confusion matrix is shown we have 18677 true positive predicitons, 85 type 1 errors, 9641 type 2 errors, and 1445 true negatives. Next I will use a heat map to demonstrate my confusion matrix."
   ]
  },
  {
   "cell_type": "code",
   "execution_count": null,
   "metadata": {},
   "outputs": [
    {
     "data": {
      "text/plain": [
       "Text(0.5, 445.55555555555554, 'Predicted label')"
      ]
     },
     "execution_count": 168,
     "metadata": {},
     "output_type": "execute_result"
    },
    {
     "data": {
      "image/png": "[encoded data removed]",
      "text/plain": [
       "<Figure size 500x500 with 2 Axes>"
      ]
     },
     "metadata": {},
     "output_type": "display_data"
    }
   ],
   "source": [
    "# import required modules\n",
    "import numpy as np\n",
    "import matplotlib.pyplot as plt\n",
    "import seaborn as sns\n",
    "\n",
    "class_names=[0,1] # name  of classes\n",
    "fig, ax = plt.subplots()\n",
    "tick_marks = np.arange(len(class_names))\n",
    "plt.xticks(tick_marks, class_names)\n",
    "plt.yticks(tick_marks, class_names)\n",
    "# create heatmap\n",
    "sns.heatmap(pd.DataFrame(cnf_matrix), annot=True, cmap=\"YlGnBu\" ,fmt='g')\n",
    "ax.xaxis.set_label_position(\"top\")\n",
    "plt.tight_layout()\n",
    "plt.title('Confusion matrix', y=1.1)\n",
    "plt.ylabel('Actual label')\n",
    "plt.xlabel('Predicted label')"
   ]
  },
  {
   "cell_type": "code",
   "execution_count": null,
   "metadata": {},
   "outputs": [
    {
     "name": "stdout",
     "output_type": "stream",
     "text": [
      "                 precision    recall  f1-score   support\n",
      "\n",
      "    is canceled       0.66      1.00      0.79     18762\n",
      "is not canceled       0.94      0.13      0.23     11086\n",
      "\n",
      "       accuracy                           0.67     29848\n",
      "      macro avg       0.80      0.56      0.51     29848\n",
      "   weighted avg       0.77      0.67      0.58     29848\n",
      "\n"
     ]
    }
   ],
   "source": [
    "from sklearn.metrics import classification_report\n",
    "target_names = ['is canceled', 'is not canceled']\n",
    "print(classification_report(y_test, y_pred, target_names=target_names))"
   ]
  },
  {
   "attachments": {},
   "cell_type": "markdown",
   "metadata": {},
   "source": [
    "Here we see the statistics on how our model performed and we can see it was 67% accurate."
   ]
  },
  {
   "cell_type": "code",
   "execution_count": null,
   "metadata": {},
   "outputs": [
    {
     "data": {
      "image/png": "[encoded data removed]",
      "text/plain": [
       "<Figure size 500x500 with 1 Axes>"
      ]
     },
     "metadata": {},
     "output_type": "display_data"
    }
   ],
   "source": [
    "y_pred_proba = logreg.predict_proba(X_test)[::,1]\n",
    "fpr, tpr, _ = metrics.roc_curve(y_test,  y_pred_proba)\n",
    "auc = metrics.roc_auc_score(y_test, y_pred_proba)\n",
    "plt.plot(fpr,tpr,label=\"data 1, auc=\"+str(auc))\n",
    "plt.legend(loc=4)\n",
    "plt.show()"
   ]
  },
  {
   "attachments": {},
   "cell_type": "markdown",
   "metadata": {},
   "source": [
    "This is an ROC curve which pits our true positive to false positive and determines how accurate the model is based off those numbers."
   ]
  },
  {
   "attachments": {},
   "cell_type": "markdown",
   "metadata": {},
   "source": [
    "**Discussion:**\n",
    "\n",
    "Fill in...\n"
   ]
  },
  {
   "attachments": {},
   "cell_type": "markdown",
   "metadata": {
    "tags": []
   },
   "source": [
    "---\n",
    "\n",
    "# Section: 5 - Evaluation\n",
    "\n",
    "In this step, the analyses and/or models are evaluated for quality and relevance / usefulness.\n",
    "\n",
    "NOTE: This step is tightly coupled and iterative with the Modeling step.\n",
    "\n",
    "---\n"
   ]
  },
  {
   "attachments": {},
   "cell_type": "markdown",
   "metadata": {},
   "source": [
    "So from what we can tell with the moel from above, it can predict with an accuracy of 67% which is not that great but from that it can recall from the training data if the guest was going to cancel or not. This model is a just a framework for what can be used to help with the prediction of our guests but so far it is loking bright. On top of that, it was extrememly precise in determining whether or not a guest will not cancel. Lastly, we see that the ROC curve which is the true positive rate against the fales positive rate is 59%. This is not the best number but what we could use to help is find more features to allow for a tighter model with more requirments which could allow for us to be more accurate. I would say that the model is relavent but not as practical and useful. This is because the accuracy is relatively low for an industry to use successfully and have the right conversion rate to make the project worth it. "
   ]
  },
  {
   "attachments": {},
   "cell_type": "markdown",
   "metadata": {},
   "source": [
    "**Discussion:**\n",
    "\n",
    "Fill in...\n"
   ]
  },
  {
   "cell_type": "code",
   "execution_count": null,
   "metadata": {},
   "outputs": [],
   "source": []
  },
  {
   "attachments": {},
   "cell_type": "markdown",
   "metadata": {
    "tags": []
   },
   "source": [
    "---\n",
    "\n",
    "# Section: 6 - Deployment\n",
    "\n",
    "In this step, data and resulting models and/or analyses are put to use. This may include:\n",
    "\n",
    "- Deploying data mining / machine learning algorithms to production.\n",
    "- Communicating the results of the analyses to business stakeholders, so they can take action.\n",
    "\n",
    "---\n"
   ]
  },
  {
   "cell_type": "code",
   "execution_count": null,
   "metadata": {},
   "outputs": [],
   "source": []
  },
  {
   "attachments": {},
   "cell_type": "markdown",
   "metadata": {
    "tags": []
   },
   "source": [
    "**Discussion:**\n",
    "\n",
    "Fill in...\n"
   ]
  },
  {
   "cell_type": "code",
   "execution_count": null,
   "metadata": {
    "tags": []
   },
   "outputs": [],
   "source": []
  },
  {
   "attachments": {},
   "cell_type": "markdown",
   "metadata": {
    "tags": []
   },
   "source": [
    "---\n",
    "\n",
    "# Section: Conclusions\n",
    "\n",
    "- What did you learn from this exercise?\n",
    "\n",
    "---\n"
   ]
  },
  {
   "cell_type": "code",
   "execution_count": null,
   "metadata": {},
   "outputs": [],
   "source": []
  },
  {
   "attachments": {},
   "cell_type": "markdown",
   "metadata": {
    "tags": []
   },
   "source": [
    "**Discussion:**\n",
    "\n",
    "Fill in...\n"
   ]
  },
  {
   "cell_type": "code",
   "execution_count": null,
   "metadata": {},
   "outputs": [],
   "source": []
  }
 ],
 "metadata": {
  "kernelspec": {
   "display_name": "Python 3",
   "language": "python",
   "name": "python3"
  },
  "language_info": {
   "codemirror_mode": {
    "name": "ipython",
    "version": 3
   },
   "file_extension": ".py",
   "mimetype": "text/x-python",
   "name": "python",
   "nbconvert_exporter": "python",
   "pygments_lexer": "ipython3",
   "version": "3.11.1"
  },
  "latex_envs": {
   "LaTeX_envs_menu_present": true,
   "autoclose": false,
   "autocomplete": true,
   "bibliofile": "biblio.bib",
   "cite_by": "apalike",
   "current_citInitial": 1,
   "eqLabelWithNumbers": true,
   "eqNumInitial": 1,
   "hotkeys": {
    "equation": "Ctrl-E",
    "itemize": "Ctrl-I"
   },
   "labels_anchors": false,
   "latex_user_defs": false,
   "report_style_numbering": false,
   "user_envs_cfg": false
  },
  "vscode": {
   "interpreter": {
    "hash": "932ebfec5d48865397cfdef02b45503e0ff9541558567f53ec81f672f84eaf9c"
   }
  }
 },
 "nbformat": 4,
 "nbformat_minor": 4
}
